{
 "cells": [
  {
   "cell_type": "markdown",
   "metadata": {},
   "source": [
    "# Investigate results of fitting procedure"
   ]
  },
  {
   "cell_type": "code",
   "execution_count": 20,
   "metadata": {},
   "outputs": [],
   "source": [
    "import sys\n",
    "sys.path.append(\"../python/\")\n",
    "\n",
    "import numpy as np\n",
    "import matplotlib.pyplot as plt\n",
    "%matplotlib inline\n",
    "import bokeh.palettes\n",
    "import _corner\n",
    "import imp\n",
    "imp.reload(_corner)\n",
    "from _corner import corner\n",
    "import pickle\n",
    "from matplotlib.offsetbox import AnchoredText\n",
    "\n",
    "from matplotlib import rc\n",
    "rc('font', family='times new roman', size=22.)"
   ]
  },
  {
   "cell_type": "markdown",
   "metadata": {},
   "source": [
    "### Dependence with relative uncertainty on observed temperature\n",
    "\n",
    "**TODO**: plotear randomly algún corner plot para ver qué está pasando"
   ]
  },
  {
   "cell_type": "code",
   "execution_count": 14,
   "metadata": {},
   "outputs": [
    {
     "name": "stdout",
     "output_type": "stream",
     "text": [
      "(2, 20) [0.5291 1.2204] [0.5291 0.5359 0.3888 0.3701 0.4392 0.6008 0.3286 0.3434 0.5687 0.4812\n",
      " 0.4473 0.337  0.5025 0.5933 0.543  0.569  0.4712 0.2478 0.6194 0.5003]\n"
     ]
    }
   ],
   "source": [
    "rel_unc_Tobs = [0.01, 0.02, 0.03, 0.05, 0.10, 0.25, 0.50]\n",
    "\n",
    "mean = {}; median = {}; MAP = {}; ML = {};\n",
    "\n",
    "for rel_unc in rel_unc_Tobs:\n",
    "    data = np.genfromtxt(\"../results/bayesian/statistics.dat\", unpack=True)\n",
    "    mean[rel_unc]   = np.array((data[0], data[1]))\n",
    "    #print(mean[rel_unc].shape, mean[rel_unc][:, 0], mean[rel_unc][0])\n",
    "    median[rel_unc] = np.array((data[2], data[3]))\n",
    "    MAP[rel_unc]    = np.array((data[4], data[5]))\n",
    "    ML[rel_unc]     = np.array((data[6], data[7]))"
   ]
  },
  {
   "cell_type": "code",
   "execution_count": 15,
   "metadata": {},
   "outputs": [],
   "source": [
    "f_true     = 1.\n",
    "gamma_true = 1.\n",
    "true       = [f_true, gamma_true]\n",
    "rank       = mean[rel_unc].shape[1]\n",
    "D          = mean[rel_unc].shape[0] # dimension parameter space\n",
    "FSE        = np.zeros((D, 4))\n",
    "\n",
    "for i in range(D):\n",
    "    FSE[i][0] = []; FSE[i][1] = []; FSE[i][2] = []; FSE[i][3] = []\n",
    "    for rel_unc in rel_unc_Tobs:\n",
    "        FSE[i][0].append(np.sqrt(1/rank*np.sum(np.power(mean[rel_unc][i] - true[i], 2)))/true[i])\n",
    "        FSE[i][1].append(np.sqrt(1/rank*np.sum(np.power(median[rel_unc][i] - true[i], 2)))/true[i])\n",
    "        FSE[i][2].append(np.sqrt(1/rank*np.sum(np.power(MAP[rel_unc][i] - true[i], 2)))/true[i])\n",
    "        FSE[i][3].append(np.sqrt(1/rank*np.sum(np.power(ML[rel_unc][i] - true[i], 2)))/true[i])"
   ]
  },
  {
   "cell_type": "code",
   "execution_count": 19,
   "metadata": {},
   "outputs": [
    {
     "data": {
      "image/png": "[encoded data removed]",
      "text/plain": [
       "<Figure size 936x360 with 2 Axes>"
      ]
     },
     "metadata": {
      "needs_background": "light"
     },
     "output_type": "display_data"
    }
   ],
   "source": [
    "fig, ax = plt.subplots(1, 2, figsize=(13, 5))\n",
    "\n",
    "rel_unc_Tobs = [1, 2, 3, 5, 10, 25, 50]\n",
    "labels       = [\"mean\", \"median\", \"MAP\", \"ML\"]\n",
    "\n",
    "for k in range(4):\n",
    "    ax[0].scatter(rel_unc_Tobs, FSE[0][k], label=labels[k])\n",
    "    ax[1].scatter(rel_unc_Tobs, FSE[1][k])\n",
    "\n",
    "ax[0].legend(frameon=True)\n",
    "ax[0].set_ylabel(\"FSE\")\n",
    "ax[0].set_xlabel(r\"$\\sigma_{T_{obs}}/T_{obs}\\, [\\%]$\")\n",
    "ax[1].set_xlabel(r\"$\\sigma_{T_{obs}}/T_{obs}\\, [\\%]$\")\n",
    "\n",
    "text_box = AnchoredText(r\"$10^4$ BDs; $\\gamma_{\\rm true}=1$, $f_{\\rm true}=1$\", frameon=False, loc=1, pad=0.01)\n",
    "plt.setp(text_box.patch, facecolor=\"white\")\n",
    "ax[1].add_artist(text_box)"
   ]
  },
  {
   "cell_type": "code",
   "execution_count": null,
   "metadata": {},
   "outputs": [],
   "source": []
  }
 ],
 "metadata": {
  "kernelspec": {
   "display_name": "Python 3",
   "language": "python",
   "name": "python3"
  },
  "language_info": {
   "codemirror_mode": {
    "name": "ipython",
    "version": 3
   },
   "file_extension": ".py",
   "mimetype": "text/x-python",
   "name": "python",
   "nbconvert_exporter": "python",
   "pygments_lexer": "ipython3",
   "version": "3.8.2"
  }
 },
 "nbformat": 4,
 "nbformat_minor": 4
}
