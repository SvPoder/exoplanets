{
 "cells": [
  {
   "cell_type": "code",
   "execution_count": 5,
   "metadata": {},
   "outputs": [],
   "source": [
    "from scipy.stats import gaussian_kde, binned_statistic\n",
    "import numpy as np\n",
    "import pickle\n",
    "import matplotlib.pyplot as plt"
   ]
  },
  {
   "cell_type": "code",
   "execution_count": 4,
   "metadata": {},
   "outputs": [],
   "source": [
    "filepath = (\"/hdfs/local/sven/exoplanets/repo_test/\")\n",
    "_file    = open(filepath + (\"like_fixedT10v100Tcut650_nocutTwn_N100_sigma0.2_f1.0gamma1.2rs20.0v42\"), \"rb\") \n",
    "like1     = pickle.load(_file)\n",
    "_file    = open(filepath + (\"posterior_fixedT10v100Tcut650_nocutTwn_N100_sigma0.2_f1.0gamma1.2rs20.0v42\"), \"rb\") \n",
    "samples1  = pickle.load(_file)\n",
    "\n",
    "\n",
    "_file    = open(filepath + (\"like_test_new_fixedT10v100Tcut650_nocutTwn_N100_sigma0.2_f1.0gamma1.2rs20.0v42\"), \"rb\") \n",
    "like2     = pickle.load(_file)\n",
    "_file    = open(filepath + (\"posterior_test_new_fixedT10v100Tcut650_nocutTwn_N100_sigma0.2_f1.0gamma1.2rs20.0v42\"), \"rb\") \n",
    "samples2  = pickle.load(_file)"
   ]
  },
  {
   "cell_type": "code",
   "execution_count": 6,
   "metadata": {},
   "outputs": [
    {
     "data": {
      "text/plain": [
       "Text(0, 0.5, '-ln($\\\\mathcal{L}$)')"
      ]
     },
     "execution_count": 6,
     "metadata": {},
     "output_type": "execute_result"
    },
    {
     "data": {
      "image/png": "[encoded data removed]",
      "text/plain": [
       "<Figure size 360x360 with 1 Axes>"
      ]
     },
     "metadata": {
      "needs_background": "light"
     },
     "output_type": "display_data"
    }
   ],
   "source": [
    "fig, axes = plt.subplots(1, 1, figsize=(5, 5))\n",
    "\n",
    "axes.set_xlabel(r\"$\\gamma$\")\n",
    "\n",
    "bin_n=40\n",
    "x = binned_statistic(samples1[:, 1], like1, 'max', bins=bin_n)[1] \n",
    "y = binned_statistic(samples1[:, 1], like1, 'max', bins=bin_n+1)[0]\n",
    "y = y - np.max(y[~np.isnan(y)]) + 1\n",
    "axes.plot(x, y, ls=\"-\", color=\"r\", lw=2.5)\n",
    "axes.axvline(samples1[:, 1][np.argmax(like1)], color=\"red\", ls=\"--\", label=\"before\")\n",
    "\n",
    "x = binned_statistic(samples2[:, 1], like2, 'max', bins=bin_n)[1] \n",
    "y = binned_statistic(samples2[:, 1], like2, 'max', bins=bin_n+1)[0]\n",
    "y = y - np.max(y[~np.isnan(y)]) + 1\n",
    "axes.plot(x, y, ls=\"-\", color=\"orange\", lw=2.5)\n",
    "axes.axvline(samples2[:, 1][np.argmax(like2)], color=\"orange\", ls=\"--\", label=\"after\")\n",
    "\n",
    "axes.set_ylim(-1, 1.5)\n",
    "axes.legend(fontsize=16)\n",
    "\n",
    "axes.set_ylabel(r\"-ln($\\mathcal{L}$)\")"
   ]
  },
  {
   "cell_type": "code",
   "execution_count": null,
   "metadata": {},
   "outputs": [],
   "source": []
  },
  {
   "cell_type": "code",
   "execution_count": null,
   "metadata": {},
   "outputs": [],
   "source": []
  }
 ],
 "metadata": {
  "interpreter": {
   "hash": "83337037a5cfbb611f36a1b0df2cb9fcbbff2bf207d2366aba390e45bfeccdb8"
  },
  "kernelspec": {
   "display_name": "Python 3.6.8 64-bit ('exoplanetenv': venv)",
   "language": "python",
   "name": "python3"
  },
  "language_info": {
   "codemirror_mode": {
    "name": "ipython",
    "version": 3
   },
   "file_extension": ".py",
   "mimetype": "text/x-python",
   "name": "python",
   "nbconvert_exporter": "python",
   "pygments_lexer": "ipython3",
   "version": "3.6.8"
  },
  "orig_nbformat": 4
 },
 "nbformat": 4,
 "nbformat_minor": 2
}
