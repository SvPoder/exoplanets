{
 "cells": [
  {
   "cell_type": "markdown",
   "metadata": {},
   "source": [
    "# Testing the derivatives in the code"
   ]
  },
  {
   "cell_type": "code",
   "execution_count": 13,
   "metadata": {},
   "outputs": [
    {
     "data": {
      "text/plain": [
       "<module 'experimental_sensitivity_CL_Asimov' from '/home/sven/repos/exoplanets/python/experimental_sensitivity_CL_Asimov.py'>"
      ]
     },
     "execution_count": 13,
     "metadata": {},
     "output_type": "execute_result"
    }
   ],
   "source": [
    "import sys\n",
    "sys.path.append(\"/home/sven/repos/exoplanets/python\")\n",
    "import numpy as np\n",
    "import imp\n",
    "import utils\n",
    "import derivatives\n",
    "import mock_generation_new\n",
    "import experimental_sensitivity_CL_Asimov as asimov\n",
    "#import experimental_sensitivity_CL_Asimov as asimov\n",
    "imp.reload(utils)\n",
    "imp.reload(derivatives)\n",
    "imp.reload(mock_generation_new)\n",
    "imp.reload(experimental_sensitivity_CL_Asimov)"
   ]
  },
  {
   "cell_type": "code",
   "execution_count": 21,
   "metadata": {},
   "outputs": [],
   "source": [
    "f         = 1\n",
    "nBDs      = 100\n",
    "sigma     = 0.1\n",
    "gamma_max = [30]\n",
    "\n",
    "rs        = [0.4]\n",
    "gamma_min = [1.5]\n",
    "steps     = 200 # Need to vary\n",
    "    \n",
    "relT = 0.1\n",
    "ex   = \"fixedT10v100\"\n",
    "v    = 100. # km/s\n",
    "\n",
    "# Load ATMO2020 model                                                          \n",
    "path     = \"/home/mariacst/exoplanets/exoplanets/data/\"                          \n",
    "data     = np.genfromtxt(path + \"./ATMO_CEQ_vega_MIRI.txt\", unpack=True)         \n",
    "points   = np.transpose(data[0:2, :])                                            \n",
    "values   = data[2]\n",
    "gamma_up = np.ones(len(rs))*10.\n",
    "path = \"/home/mariacst/exoplanets/exoplanets/python/data_der/\""
   ]
  },
  {
   "cell_type": "code",
   "execution_count": 37,
   "metadata": {},
   "outputs": [],
   "source": []
  },
  {
   "cell_type": "code",
   "execution_count": 6,
   "metadata": {},
   "outputs": [],
   "source": [
    "\n",
    "# Setting up seed and grabbing observations\n",
    "seed      = 250\n",
    "np.random.seed(seed)\n",
    "(robs, sigmarobs, Tobs, sigmaTobs, Mobs,                                  \n",
    "    sigmaMobs, Aobs, sigmaAobs) = mock_generation_new.mock_population_all_Asimov(nBDs, relT, \n",
    "                                    sigma, sigma, sigma, 0., 1., 1., \n",
    "                                    Tmin=0., v=v)"
   ]
  },
  {
   "cell_type": "code",
   "execution_count": 7,
   "metadata": {},
   "outputs": [
    {
     "name": "stdout",
     "output_type": "stream",
     "text": [
      "(100, 2)\n",
      "(100,)\n"
     ]
    }
   ],
   "source": [
    "from scipy.interpolate import griddata\n",
    "\n",
    "xi   = np.transpose(np.asarray([Aobs, Mobs]))\n",
    "Teff = griddata(points, values, xi)\n",
    "\n",
    "print(xi.shape)\n",
    "print(Teff.shape)"
   ]
  },
  {
   "cell_type": "code",
   "execution_count": 8,
   "metadata": {},
   "outputs": [],
   "source": [
    "# Calculate derivatives Tint wrt Age and Mass\n",
    "dervTint_A = np.ones(nBDs)\n",
    "dervTint_M = np.ones(nBDs)\n",
    "size       = 7000\n",
    "h          = 0.001"
   ]
  },
  {
   "cell_type": "code",
   "execution_count": 9,
   "metadata": {},
   "outputs": [],
   "source": [
    "# The actual derivatives\n",
    "\n",
    "for i in range(nBDs):\n",
    "    dervTint_A[i] = derivatives.derivativeTint_wrt_A(Mobs[i], Aobs[i], points, values,\n",
    "                                        size=size, h=h)\n",
    "    dervTint_M[i] = derivatives.derivativeTint_wrt_M(Mobs[i], Aobs[i], points, values,\n",
    "                                        size=size, h=h)"
   ]
  },
  {
   "cell_type": "markdown",
   "metadata": {},
   "source": [
    "## Plotting the interpolated Teff function wrt Age\n",
    "\n"
   ]
  },
  {
   "cell_type": "code",
   "execution_count": 10,
   "metadata": {},
   "outputs": [
    {
     "data": {
      "image/png": "[encoded data removed]",
      "text/plain": [
       "<Figure size 432x288 with 1 Axes>"
      ]
     },
     "metadata": {
      "needs_background": "light"
     },
     "output_type": "display_data"
    }
   ],
   "source": [
    "import matplotlib.pyplot as plt\n",
    "from scipy.interpolate import griddata, interp1d\n",
    "\n",
    "ages   = np.linspace(1., 10., size)\n",
    "mass   = np.ones(size)*Mobs[96]\n",
    "xi     = np.transpose(np.asarray([ages, mass]))\n",
    "Teff   = griddata(points, values, xi)\n",
    "\n",
    "interpolated_fn = interp1d(ages, Teff)\n",
    "\n",
    "xnew = np.arange(1, 10, 1)\n",
    "ynew = interpolated_fn(xnew)\n",
    "plt.plot(ages, Teff, 'o', xnew, ynew, '-')\n",
    "\n",
    "plt.xlabel(\"Age\")\n",
    "plt.ylabel(\"Teff\")\n",
    "plt.title(\"Relationship between Teff and Age at given mass\")\n",
    "plt.show()"
   ]
  },
  {
   "cell_type": "code",
   "execution_count": 120,
   "metadata": {},
   "outputs": [
    {
     "data": {
      "text/plain": [
       "1.0437977571551884"
      ]
     },
     "execution_count": 120,
     "metadata": {},
     "output_type": "execute_result"
    }
   ],
   "source": [
    "Aobs[97]"
   ]
  },
  {
   "cell_type": "code",
   "execution_count": 113,
   "metadata": {},
   "outputs": [
    {
     "name": "stdout",
     "output_type": "stream",
     "text": [
      "(100,)\n",
      "(100,)\n"
     ]
    },
    {
     "data": {
      "text/plain": [
       "[<matplotlib.lines.Line2D at 0x7fe08137c4e0>]"
      ]
     },
     "execution_count": 113,
     "metadata": {},
     "output_type": "execute_result"
    },
    {
     "data": {
      "image/png": "[encoded data removed]",
      "text/plain": [
       "<Figure size 432x288 with 1 Axes>"
      ]
     },
     "metadata": {
      "needs_background": "light"
     },
     "output_type": "display_data"
    }
   ],
   "source": [
    "\n",
    "x_range = np.arange(0, len(dervTint_A), 1)\n",
    "y_range = dervTint_A\n",
    "\n",
    "print(x_range.shape)\n",
    "print(y_range.shape)\n",
    "\n",
    "plt.xlabel(\"No. in array\")\n",
    "plt.ylabel(\"Derivative value\")\n",
    "plt.title(\"Derivatives wrt A\")\n",
    "\n",
    "plt.plot(x_range, y_range)"
   ]
  },
  {
   "cell_type": "markdown",
   "metadata": {},
   "source": [
    "## Applying Tcut"
   ]
  },
  {
   "cell_type": "code",
   "execution_count": null,
   "metadata": {},
   "outputs": [],
   "source": [
    "# Timing the script\n",
    "import time\n",
    "start = time.time()\n",
    "\n",
    "#f         = float(sys.argv[1])\n",
    "f         = 1\n",
    "\n",
    "nBDs      = 100\n",
    "sigma     = 0.1\n",
    "#gamma_max = [float(sys.argv[4])]\n",
    "gamma_max = [1.4]\n",
    "\n",
    "#rs        = [float(sys.argv[2])]\n",
    "rs        = [2.5, 10, 20, 30]\n",
    "\n",
    "#gamma_min = [float(sys.argv[3])]\n",
    "gamma_min = [0.001]\n",
    "\n",
    "steps     = 400 # Need to vary\n",
    "print(steps)\n",
    "\n",
    "relT = 0.1;\n",
    "ex   = \"fixedT10v100Tcut650\"\n",
    "v    = 100. # km/s\n",
    "#Tcut = 650. # KI\n",
    "Tcut = 650.\n",
    "\n",
    "# Load ATMO2020 model\n",
    "path     = \"/home/mariacst/exoplanets/exoplanets/data/\"\n",
    "data     = np.genfromtxt(path + \"./ATMO_CEQ_vega_MIRI.txt\", unpack=True)\n",
    "points   = np.transpose(data[0:2, :])\n",
    "values   = data[2]\n",
    "gamma_up = np.ones(len(rs))*10.\n",
    "path = \"/home/mariacst/exoplanets/exoplanets/python/data_der/\"\n",
    "#path = \"/home/mariacst/exoplanets/running/v100_N1e5/data_der/\"\n",
    "\n",
    "# Generate real observation\n",
    "seed      = 250\n",
    "np.random.seed(seed)\n",
    "\n"
   ]
  },
  {
   "cell_type": "code",
   "execution_count": 122,
   "metadata": {},
   "outputs": [],
   "source": [
    "Tcut = 650. # KI"
   ]
  },
  {
   "cell_type": "code",
   "execution_count": 123,
   "metadata": {},
   "outputs": [],
   "source": [
    "(robs, sigmarobs, Tobs, sigmaTobs, Mobs,\n",
    "        sigmaMobs, Aobs, sigmaAobs) = mock_generation_new.mock_population_all_Asimov(nBDs, relT,\n",
    "                                      sigma, sigma, sigma, 0., 1., 1.,\n",
    "                                      Tmin=Tcut, v=v)"
   ]
  },
  {
   "cell_type": "code",
   "execution_count": 124,
   "metadata": {},
   "outputs": [
    {
     "name": "stdout",
     "output_type": "stream",
     "text": [
      "(100, 2)\n",
      "(100,)\n"
     ]
    }
   ],
   "source": [
    "from scipy.interpolate import griddata\n",
    "\n",
    "xi   = np.transpose(np.asarray([Aobs, Mobs]))\n",
    "Teff = griddata(points, values, xi)\n",
    "\n",
    "print(xi.shape)\n",
    "print(Teff.shape)\n",
    "\n",
    "\n",
    "# Calculate derivatives Tint wrt Age and Mass\n",
    "dervTint_A = np.ones(nBDs)\n",
    "dervTint_M = np.ones(nBDs)\n",
    "size       = 7000\n",
    "h          = 0.001\n",
    "\n",
    "# The actual derivatives\n",
    "\n",
    "for i in range(nBDs):\n",
    "    dervTint_A[i] = derivatives.derivativeTint_wrt_A(Mobs[i], Aobs[i], points, values,\n",
    "                                        size=size, h=h)\n",
    "    dervTint_M[i] = derivatives.derivativeTint_wrt_M(Mobs[i], Aobs[i], points, values,\n",
    "                                        size=size, h=h)"
   ]
  },
  {
   "cell_type": "code",
   "execution_count": 143,
   "metadata": {},
   "outputs": [
    {
     "data": {
      "text/plain": [
       "(7000, 2)"
      ]
     },
     "execution_count": 143,
     "metadata": {},
     "output_type": "execute_result"
    }
   ],
   "source": [
    "xi.shape"
   ]
  },
  {
   "cell_type": "code",
   "execution_count": 139,
   "metadata": {},
   "outputs": [
    {
     "data": {
      "image/png": "[encoded data removed]",
      "text/plain": [
       "<Figure size 432x288 with 1 Axes>"
      ]
     },
     "metadata": {
      "needs_background": "light"
     },
     "output_type": "display_data"
    }
   ],
   "source": [
    "import matplotlib.pyplot as plt\n",
    "from scipy.interpolate import griddata, interp1d\n",
    "\n",
    "ages   = np.linspace(1., 10., size)\n",
    "mass   = np.ones(size)*Mobs[0]\n",
    "xi     = np.transpose(np.asarray([ages, mass]))\n",
    "Teff   = griddata(points, values, xi)\n",
    "\n",
    "interpolated_fn = interp1d(ages, Teff)\n",
    "\n",
    "xnew = np.arange(1, 10, 0.5)\n",
    "ynew = interpolated_fn(xnew)\n",
    "#plt.plot(ages, Teff, 'o',  xnew, ynew, '-')\n",
    "plt.plot(ages, Teff, 'o', markersize = 0.5)\n",
    "plt.plot(xnew, ynew, '-')\n",
    "plt.xlabel(\"Age\")\n",
    "plt.ylabel(\"Teff\")\n",
    "plt.title(\"Relationship between Teff and Age at given mass\")\n",
    "plt.show()"
   ]
  },
  {
   "cell_type": "code",
   "execution_count": 3,
   "metadata": {},
   "outputs": [
    {
     "ename": "NameError",
     "evalue": "name 'plt' is not defined",
     "output_type": "error",
     "traceback": [
      "\u001b[0;31m---------------------------------------------------------------------------\u001b[0m",
      "\u001b[0;31mNameError\u001b[0m                                 Traceback (most recent call last)",
      "\u001b[0;32m<ipython-input-3-c92319af6b1d>\u001b[0m in \u001b[0;36m<module>\u001b[0;34m\u001b[0m\n\u001b[0;32m----> 1\u001b[0;31m \u001b[0mfig\u001b[0m\u001b[0;34m=\u001b[0m\u001b[0mplt\u001b[0m\u001b[0;34m.\u001b[0m\u001b[0mfigure\u001b[0m\u001b[0;34m(\u001b[0m\u001b[0mfacecolor\u001b[0m\u001b[0;34m=\u001b[0m\u001b[0;34m'White'\u001b[0m\u001b[0;34m)\u001b[0m\u001b[0;34m\u001b[0m\u001b[0;34m\u001b[0m\u001b[0m\n\u001b[0m\u001b[1;32m      2\u001b[0m \u001b[0;34m\u001b[0m\u001b[0m\n\u001b[1;32m      3\u001b[0m \u001b[0mx_range\u001b[0m \u001b[0;34m=\u001b[0m \u001b[0mnp\u001b[0m\u001b[0;34m.\u001b[0m\u001b[0marange\u001b[0m\u001b[0;34m(\u001b[0m\u001b[0;36m0\u001b[0m\u001b[0;34m,\u001b[0m \u001b[0mlen\u001b[0m\u001b[0;34m(\u001b[0m\u001b[0mdervTint_A\u001b[0m\u001b[0;34m)\u001b[0m\u001b[0;34m,\u001b[0m \u001b[0;36m1\u001b[0m\u001b[0;34m)\u001b[0m\u001b[0;34m\u001b[0m\u001b[0;34m\u001b[0m\u001b[0m\n\u001b[1;32m      4\u001b[0m \u001b[0my_range\u001b[0m \u001b[0;34m=\u001b[0m \u001b[0mdervTint_A\u001b[0m\u001b[0;34m\u001b[0m\u001b[0;34m\u001b[0m\u001b[0m\n\u001b[1;32m      5\u001b[0m \u001b[0;34m\u001b[0m\u001b[0m\n",
      "\u001b[0;31mNameError\u001b[0m: name 'plt' is not defined"
     ]
    }
   ],
   "source": [
    "fig=plt.figure(facecolor='White')\n",
    "\n",
    "x_range = np.arange(0, len(dervTint_A), 1)\n",
    "y_range = dervTint_A\n",
    "\n",
    "print(x_range.shape)\n",
    "print(y_range.shape)\n",
    "\n",
    "plt.xlabel(\"No. in array\")\n",
    "plt.ylabel(\"Derivative value\")\n",
    "plt.title(\"Derivatives wrt A (Tcut)\")\n",
    "plt.plot(x_range, y_range)"
   ]
  },
  {
   "cell_type": "markdown",
   "metadata": {},
   "source": [
    "---"
   ]
  }
 ],
 "metadata": {
  "interpreter": {
   "hash": "83337037a5cfbb611f36a1b0df2cb9fcbbff2bf207d2366aba390e45bfeccdb8"
  },
  "kernelspec": {
   "display_name": "Python 3.6.8 64-bit ('exoplanetenv': venv)",
   "name": "python3"
  },
  "language_info": {
   "codemirror_mode": {
    "name": "ipython",
    "version": 3
   },
   "file_extension": ".py",
   "mimetype": "text/x-python",
   "name": "python",
   "nbconvert_exporter": "python",
   "pygments_lexer": "ipython3",
   "version": "3.6.8"
  },
  "orig_nbformat": 4
 },
 "nbformat": 4,
 "nbformat_minor": 2
}
