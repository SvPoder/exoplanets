{
 "cells": [
  {
   "cell_type": "markdown",
   "metadata": {},
   "source": [
    "# Emcee Result Checker\n",
    "\n",
    "Simple notebook to check the walkers and corner plot of an emcee sampler result.  \n",
    "\n",
    "Provide the .h5 file from the emcee backend functionality and run the functions below."
   ]
  },
  {
   "cell_type": "code",
   "execution_count": null,
   "metadata": {},
   "outputs": [],
   "source": [
    "import emcee\n",
    "import matplotlib.pyplot as plt\n",
    "import corner"
   ]
  },
  {
   "cell_type": "code",
   "execution_count": null,
   "metadata": {},
   "outputs": [],
   "source": [
    "def plot_walkers(samples_data, param_labels):\n",
    "\n",
    "    # Setup parameter labels\n",
    "    num_parameters = len(param_labels)\n",
    "\n",
    "    fig, axes = plt.subplots(num_parameters, figsize=(10, 7), sharex=True)\n",
    "    \n",
    "    fig.suptitle('Position of walkers', fontsize=18, y= 0.95)\n",
    "\n",
    "    for i in range(num_parameters):\n",
    "\n",
    "        ax = axes[i]\n",
    "        ax.plot(samples_data[:, :, i], \"k\", alpha=0.3)\n",
    "        ax.set_xlim(0, len(samples_data))\n",
    "        ax.set_ylabel(param_labels[i])\n",
    "        ax.yaxis.set_label_coords(-0.1, 0.5)                                                 \n",
    "        axes[-1].set_xlabel(\"Step number\")\n",
    "\n",
    "    #plt.savefig(\"Walkers_Plt_05052021\", dpi=300)\n",
    "    plt.show()\n",
    "\n",
    "def display_emcee_results(file):\n",
    "\n",
    "    param_labels = ['f', 'gamma', 'rs']\n",
    "    reader = emcee.backends.HDFBackend(file, read_only=True)\n",
    "    samples_data = reader.get_chain()\n",
    "\n",
    "    print(\"Samples shape (steps, walkers, params): {}\".format(samples_data.shape))\n",
    "    plot_walkers(samples_data, param_labels)\n",
    "\n",
    "    flat_samples = reader.get_chain(discard=200, flat=True)\n",
    "    print(\"Flattened samples shape (steps x walkers, params): {}\".format(flat_samples.shape))\n",
    "\n",
    "    corner.corner(flat_samples, labels=param_labels)"
   ]
  },
  {
   "cell_type": "code",
   "execution_count": null,
   "metadata": {},
   "outputs": [],
   "source": [
    "filename = \"/scratch/sven/exoplanet_emcee_logs/emcee_N100000_sigma0.2_f1.0gamma1.1rs10.0v1.h5\"\n",
    "display_emcee_results(filename)"
   ]
  },
  {
   "cell_type": "code",
   "execution_count": null,
   "metadata": {},
   "outputs": [],
   "source": [
    "filename = \"/scratch/sven/exoplanet_emcee_logs/ver2_emcee_N100000_sigma0.2_f1.0gamma1.1rs10.0v1.h5\"\n",
    "display_emcee_results(filename)"
   ]
  }
 ],
 "metadata": {
  "interpreter": {
   "hash": "83337037a5cfbb611f36a1b0df2cb9fcbbff2bf207d2366aba390e45bfeccdb8"
  },
  "kernelspec": {
   "display_name": "Python 3.6.8 64-bit ('exoplanetenv': venv)",
   "language": "python",
   "name": "python3"
  },
  "language_info": {
   "codemirror_mode": {
    "name": "ipython",
    "version": 3
   },
   "file_extension": ".py",
   "mimetype": "text/x-python",
   "name": "python",
   "nbconvert_exporter": "python",
   "pygments_lexer": "ipython3",
   "version": "3.6.8"
  },
  "orig_nbformat": 4
 },
 "nbformat": 4,
 "nbformat_minor": 2
}
