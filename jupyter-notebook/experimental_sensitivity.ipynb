{
 "cells": [
  {
   "cell_type": "markdown",
   "id": "martial-bleeding",
   "metadata": {},
   "source": [
    "## Experimental sensitivity"
   ]
  },
  {
   "cell_type": "code",
   "execution_count": 1,
   "id": "super-vision",
   "metadata": {},
   "outputs": [],
   "source": [
    "import sys\n",
    "sys.path.append(\"/home/mariacst/exoplanets/exoplanets/python/\")\n",
    "import imp\n",
    "import mock_generation\n",
    "imp.reload(mock_generation)\n",
    "from mock_generation import mock_population_all\n",
    "import numpy as np\n",
    "from lmfit import minimize, Parameters, fit_report \n",
    "from scipy.interpolate import griddata\n",
    "from utils import heat, temperature_withDM, temperature\n",
    "from astropy.constants import R_jup, M_sun\n",
    "import matplotlib.pyplot as plt\n",
    "%matplotlib inline"
   ]
  },
  {
   "cell_type": "code",
   "execution_count": null,
   "id": "based-apple",
   "metadata": {},
   "outputs": [],
   "source": []
  },
  {
   "cell_type": "markdown",
   "id": "bound-midwest",
   "metadata": {},
   "source": [
    "**TODO : what if i use the same lnL as previous - that is wo the M, r, age part!**\n",
    "\n",
    "For this part the $\\mathcal{L}$ takes the form\n",
    "\n",
    "\\begin{equation}\n",
    "\\ln\\mathcal{L}(\\gamma, f, M, r, age) \\propto -\\frac{1}{2\\sigma_T^2}\\sum_{i=1}^{N}\\frac{\\left(T_{DM, i}+T_{int, i}-T_{obs, i}\\right)^2}{T_{obs, i}^2} -  \\frac{1}{2\\sigma_M^2}\\sum_{i=1}^{N}\\frac{\\left(M_{i}-M_{obs, i}\\right)^2}{M_{obs, i}^2} -  \\frac{1}{2\\sigma_A^2}\\sum_{i=1}^{N}\\frac{\\left(age_{i}-age_{obs, i}\\right)^2}{age_{obs, i}^2} -  \\frac{1}{2\\sigma_r^2}\\sum_{i=1}^{N}\\frac{\\left(r_{i}-r_{obs, i}\\right)^2}{r_{obs, i}^2}\n",
    "\\end{equation}"
   ]
  },
  {
   "cell_type": "code",
   "execution_count": 10,
   "id": "warming-richards",
   "metadata": {},
   "outputs": [],
   "source": [
    "def lnL(p, rs, Tobs, robs, Mobs, age_obs, points, values, relT, relR, relM, relA, rho0=0.42, v=None):\n",
    "    \"\"\"\n",
    "    Return ln(L) - notice that rs is not a free parameter of the analysis!\n",
    "    \"\"\"\n",
    "    # free parameters of the fitting  \n",
    "    f, gamma, r, mass, age = p\n",
    "    \n",
    "    ## calculate predictic intrinsic heat flow for mock BDs\n",
    "    xi       = np.transpose(np.asarray([age, mass]))\n",
    "    Teff     = griddata(points, values, xi)\n",
    "    heat_int = heat(Teff, np.ones(len(Teff))*R_jup.value)\n",
    "    # Calculate predicted Temperature (DM + intrinsic)\n",
    "    T        = temperature_withDM(r, heat_int, f=f, M=mass*M_sun.value, parameters=[gamma, rs, rho0], v=v)\n",
    "    \n",
    "    print(np.sum(Teff-T)) # just checking\n",
    "    # return\n",
    "    return -0.5*(np.sum(((T-Tobs)/(relT*Tobs))**2.) + np.sum(((r-robs)/(relR*robs))**2.) + \n",
    "                 np.sum(((M-Mobs)/(relM*Mobs))**2.) + np.sum(((age-age_obs)/(relA*age_obs))**2.)) \n",
    "\n",
    "\n",
    "def TS(gamma, rs, Tobs, robs, Mobs, age_obs, rho0=0.42):\n",
    "    \n",
    "    # Find ML estimators\n",
    "    \n",
    "    \n",
    "    # return"
   ]
  },
  {
   "cell_type": "markdown",
   "id": "elder-terror",
   "metadata": {},
   "source": [
    "I am using the following test statistics:\n",
    "\n",
    "\\begin{equation}\n",
    "\\tilde{q}_\\gamma = \\begin{cases}\n",
    "-2\\ln\\left(\\frac{\\mathcal{L}(\\gamma, \\hat{\\hat{f}}, \\hat{\\hat{M}}, \\hat{\\hat{r}}, \\hat{\\hat{age}})}{\\mathcal{L}(0, \\hat{\\hat{f(0)}}, \\hat{\\hat{M(0)}}, \\hat{\\hat{r(0)}}, \\hat{\\hat{age(0)}})}\\right),\\,\\, &\\hat{\\gamma} < 0, \\\\\n",
    "-2\\ln\\left(\\frac{\\mathcal{L}(\\gamma, \\hat{\\hat{f}}, \\hat{\\hat{M}}, \\hat{\\hat{r}}, \\hat{\\hat{age}})}{\\mathcal{L}(\\hat{\\gamma}, \\hat{{f}}, \\hat{{M}}, \\hat{{r}}, \\hat{{age}})}\\right),\\,\\, &0\\leq\\hat{\\gamma} \\leq \\gamma, \\\\\n",
    "0,\\,\\, &\\hat{\\gamma}>\\gamma \n",
    "\\end{cases}\n",
    "\\end{equation}"
   ]
  },
  {
   "cell_type": "markdown",
   "id": "everyday-sport",
   "metadata": {},
   "source": [
    "I am going to test the hypothesized value $\\gamma$=1. \n",
    "\n",
    "First, I am calculating the sampling distribution of $\\tilde{q}_\\gamma$ that would be obtained considering data samples generated under the background only assumption"
   ]
  },
  {
   "cell_type": "code",
   "execution_count": null,
   "id": "special-vegetation",
   "metadata": {},
   "outputs": [],
   "source": [
    "steps = 20\n",
    "\n"
   ]
  },
  {
   "cell_type": "markdown",
   "id": "negative-festival",
   "metadata": {},
   "source": [
    "Before trying the above form of the likeihood, which is a movida, lets try first the following\n",
    "\n",
    "For this part the $\\mathcal{L}$ takes the form\n",
    "\n",
    "\\begin{equation}\n",
    "\\ln\\mathcal{L}(\\gamma) \\propto -\\frac{1}{2\\sigma_T^2}\\sum_{i=1}^{N}\\frac{\\left(T_{DM, i}(\\gamma)+T_{int, i}-T_{obs, i}\\right)^2}{T_{obs, i}^2}\n",
    "\\end{equation}\n",
    "\n",
    "The test statistics takes the following form:\n",
    "\n",
    "\\begin{equation}\n",
    "\\tilde{q}_\\gamma = \\begin{cases}\n",
    "-2\\ln\\left(\\frac{\\mathcal{L}(\\gamma)}{\\mathcal{L}(0)}\\right),\\,\\, &\\hat{\\gamma} < 0, \\\\\n",
    "-2\\ln\\left(\\frac{\\mathcal{L}(\\gamma)}{\\mathcal{L}(\\hat{\\gamma})}\\right),\\,\\, &0\\leq\\hat{\\gamma} \\leq \\gamma, \\\\\n",
    "0,\\,\\, &\\hat{\\gamma}>\\gamma \n",
    "\\end{cases}\n",
    "\\end{equation}"
   ]
  },
  {
   "cell_type": "code",
   "execution_count": 102,
   "id": "charged-cosmetic",
   "metadata": {},
   "outputs": [],
   "source": [
    "def lnL(gamma, f, rs, Tobs, robs, Mobs, heat_int, relT, rho0=0.42, v=None):\n",
    "    \"\"\"\n",
    "    Return ln(L) - notice that rs is not a free parameter of the analysis!\n",
    "    \"\"\"  \n",
    "    # Calculate predicted Temperature (DM + intrinsic)\n",
    "    T        = temperature_withDM(robs, heat_int, f=f, M=Mobs*M_sun.value, parameters=[gamma, rs, rho0], v=v)\n",
    "    # return\n",
    "    return -0.5*np.sum(((T-Tobs)/(relT*Tobs))**2.) \n",
    "\n",
    "\n",
    "def _lnL_minimizer(p, f, rs, Tobs, robs, Mobs, heat_int, relT, rho0=0.42, v=None):\n",
    "    \"\"\"\n",
    "    Return ln(L) - notice that rs is not a free parameter of the analysis!\n",
    "    \"\"\"\n",
    "    # free parameters of the fitting  \n",
    "    gamma = p[\"gamma\"]\n",
    "    # Calculate predicted Temperature (DM + intrinsic)\n",
    "    T        = temperature_withDM(robs, heat_int, f=f, M=Mobs*M_sun.value, parameters=[gamma, rs, rho0], v=v)\n",
    "    #print(gamma, np.sum(((T-Tobs)/(relT*Tobs))**2.), relT)\n",
    "    #print(\"====\")\n",
    "    #print(T, Tobs)\n",
    "    # return\n",
    "    return ((T-Tobs)/(relT*Tobs))**2."
   ]
  },
  {
   "cell_type": "code",
   "execution_count": 72,
   "id": "homeless-atlantic",
   "metadata": {},
   "outputs": [],
   "source": [
    "def TS(gamma, f, rs, Tobs, robs, Mobs, heat_int, relT, rho0=0.42, v=None):\n",
    "    \n",
    "    # Find ML estimators\n",
    "    params = Parameters()\n",
    "    params.add(\"gamma\", value=1., min=0., max=3.)\n",
    "    out = minimize(_lnL_minimizer, params, args=(f, rs, Tobs, robs, Mobs, heat_int, relT))\n",
    "    assert out.success == True, \"MLE gamma could not be found!\"\n",
    "    gamma_ML = out.params[\"gamma\"]\n",
    "    \n",
    "    if gamma_ML > gamma:\n",
    "        return 0\n",
    "    else:\n",
    "        #print(lnL(gamma, f, rs, Tobs, robs, Mobs, heat_int, relT), lnL(gamma_ML, f, rs, Tobs, robs, Mobs, heat_int, relT))\n",
    "        return (-2.*lnL(gamma, f, rs, Tobs, robs, Mobs, heat_int, relT)-\n",
    "                 2*lnL(gamma_ML, f, rs, Tobs, robs, Mobs, heat_int, relT))"
   ]
  },
  {
   "cell_type": "markdown",
   "id": "chronic-crazy",
   "metadata": {},
   "source": [
    "**Checking finding MLE for $\\gamma$**"
   ]
  },
  {
   "cell_type": "code",
   "execution_count": 46,
   "id": "centered-military",
   "metadata": {},
   "outputs": [],
   "source": [
    "# mock observation\n",
    "nBDs    = 100\n",
    "relT    = 0.10; relM=0.10; relR=0.10; relA=0.10\n",
    "f_true  = 0; gamma_true = 1. ; rs_true = 20.; rho0 = 0.42;\n",
    "\n",
    "robs, Tobs, mass, ages = mock_population_all(nBDs, relT, relM, relR, relA,\n",
    "                                             f_true, gamma_true, rs_true, \n",
    "                                             rho0_true=rho0, \n",
    "                                             v=None)\n",
    "\n",
    "path = \"/home/mariacst/exoplanets/exoplanets/data/\"\n",
    "data = np.genfromtxt(path + \"./ATMO_CEQ_vega_MIRI.txt\", unpack=True)\n",
    "points = np.transpose(data[0:2, :])\n",
    "values = data[2]\n",
    "xi       = np.transpose(np.asarray([ages, mass]))                            \n",
    "Teff     = griddata(points, values, xi)                                        \n",
    "heat_int = heat(Teff, np.ones(len(Teff))*R_jup.value)\n",
    "\n",
    "params = Parameters()\n",
    "params.add(\"gamma\", value=1., min=0., max=3.)\n",
    "out = minimize(lnL_minimizer, params, args=(1., 5., Tobs, robs, mass, heat_int, relT))"
   ]
  },
  {
   "cell_type": "code",
   "execution_count": 47,
   "id": "clear-boating",
   "metadata": {},
   "outputs": [
    {
     "name": "stdout",
     "output_type": "stream",
     "text": [
      "[[Fit Statistics]]\n",
      "    # fitting method   = leastsq\n",
      "    # function evals   = 20\n",
      "    # data points      = 100\n",
      "    # variables        = 1\n",
      "    chi-square         = 1336.44151\n",
      "    reduced chi-square = 13.4994092\n",
      "    Akaike info crit   = 261.259559\n",
      "    Bayesian info crit = 263.864729\n",
      "[[Variables]]\n",
      "    gamma:  3.6438e-13 +/- 0.15440710 (42375852991532.43%) (init = 1)\n"
     ]
    }
   ],
   "source": [
    "print(fit_report(out))"
   ]
  },
  {
   "cell_type": "code",
   "execution_count": 51,
   "id": "genetic-israel",
   "metadata": {},
   "outputs": [
    {
     "data": {
      "text/plain": [
       "<Parameter 'gamma', value=5.227152044540162e-12 +/- 1.37, bounds=[0.0:3.0]>"
      ]
     },
     "execution_count": 51,
     "metadata": {},
     "output_type": "execute_result"
    }
   ],
   "source": [
    "out.params[\"gamma\"]"
   ]
  },
  {
   "cell_type": "markdown",
   "id": "golden-murray",
   "metadata": {},
   "source": [
    "**Construct the pdf of TS under background only experiments**"
   ]
  },
  {
   "cell_type": "code",
   "execution_count": 75,
   "id": "anonymous-curtis",
   "metadata": {},
   "outputs": [],
   "source": [
    "steps       = 500\n",
    "q_gamma_bck = np.ones(steps)\n",
    "\n",
    "path   = \"/home/mariacst/exoplanets/exoplanets/data/\"\n",
    "data   = np.genfromtxt(path + \"./ATMO_CEQ_vega_MIRI.txt\", unpack=True)\n",
    "points = np.transpose(data[0:2, :])\n",
    "values = data[2]\n",
    "\n",
    "# =============\n",
    "# Construction under \"strength\" gamma\n",
    "gamma = 1.\n",
    "f     = 1.\n",
    "rs    = 5.\n",
    "# =============\n",
    "\n",
    "nBDs=100; relT=0.10; relM=0.10; relR=0.10; relA=0.10\n",
    "\n",
    "for i in range(steps):\n",
    "    robs, Tobs, mass, ages = mock_population_all(nBDs, relT, relM, relR, relA,\n",
    "                                             0, 1., 1., \n",
    "                                             rho0_true=rho0, \n",
    "                                             v=None)\n",
    "    \n",
    "    xi       = np.transpose(np.asarray([ages, mass]))                            \n",
    "    Teff     = griddata(points, values, xi)                                        \n",
    "    heat_int = heat(Teff, np.ones(len(Teff))*R_jup.value)\n",
    "    \n",
    "    q_gamma_bck[i] = TS(gamma, f, rs, Tobs, robs, mass, heat_int, relT, rho0=0.42, v=None)"
   ]
  },
  {
   "cell_type": "markdown",
   "id": "handy-hormone",
   "metadata": {},
   "source": [
    "**Construct the pdf of TS under signal (with \"strength\" $\\gamma$)**"
   ]
  },
  {
   "cell_type": "code",
   "execution_count": 77,
   "id": "forty-matthew",
   "metadata": {},
   "outputs": [],
   "source": [
    "steps       = 500\n",
    "q_gamma_s   = np.ones(steps)\n",
    "\n",
    "path   = \"/home/mariacst/exoplanets/exoplanets/data/\"\n",
    "data   = np.genfromtxt(path + \"./ATMO_CEQ_vega_MIRI.txt\", unpack=True)\n",
    "points = np.transpose(data[0:2, :])\n",
    "values = data[2]\n",
    "\n",
    "# =============\n",
    "# Construction under \"strength\" gamma\n",
    "gamma = 1.\n",
    "f     = 1.\n",
    "rs    = 5.\n",
    "# =============\n",
    "\n",
    "nBDs=100; relT=0.10; relM=0.10; relR=0.10; relA=0.10\n",
    "\n",
    "for i in range(steps):\n",
    "    robs, Tobs, mass, ages = mock_population_all(nBDs, relT, relM, relR, relA,\n",
    "                                             f, gamma, rs, \n",
    "                                             rho0_true=rho0, \n",
    "                                             v=None)\n",
    "    \n",
    "    xi       = np.transpose(np.asarray([ages, mass]))                            \n",
    "    Teff     = griddata(points, values, xi)                                        \n",
    "    heat_int = heat(Teff, np.ones(len(Teff))*R_jup.value)\n",
    "    \n",
    "    q_gamma_s[i] = TS(gamma, f, rs, Tobs, robs, mass, heat_int, relT, rho0=0.42, v=None)"
   ]
  },
  {
   "cell_type": "code",
   "execution_count": 81,
   "id": "compatible-result",
   "metadata": {},
   "outputs": [
    {
     "data": {
      "image/png": "[encoded data removed]",
      "text/plain": [
       "<Figure size 504x360 with 1 Axes>"
      ]
     },
     "metadata": {
      "needs_background": "light"
     },
     "output_type": "display_data"
    }
   ],
   "source": [
    "fig, ax = plt.subplots(1, 1, figsize=(7, 5))\n",
    "_, _, _ = ax.hist(q_gamma_bck, bins=50, histtype=\"step\", lw=2.5, color=\"b\", density=True)\n",
    "_, _, _ = ax.hist(q_gamma_s, bins=50, histtype=\"step\", lw=2.5, color=\"r\", density=True)"
   ]
  },
  {
   "cell_type": "code",
   "execution_count": 93,
   "id": "pacific-pontiac",
   "metadata": {},
   "outputs": [],
   "source": [
    "#This is my observation - only background\n",
    "nBDs=100; relT_R=0.10; relM_R=0.10; relR_R=0.10; relA_R=0.10\n",
    "robs_R, Tobs_R, mass_R, ages_R = mock_population_all(nBDs, relT_R, relM_R, relR_R, relA_R,\n",
    "                                         0, 1., 1., \n",
    "                                         rho0_true=rho0, \n",
    "                                         v=None)\n",
    "\n",
    "xi         = np.transpose(np.asarray([ages_R, mass_R]))                            \n",
    "Teff       = griddata(points, values, xi)                                        \n",
    "heat_int_R = heat(Teff, np.ones(len(Teff))*R_jup.value)"
   ]
  },
  {
   "cell_type": "code",
   "execution_count": 168,
   "id": "endangered-truck",
   "metadata": {},
   "outputs": [],
   "source": [
    "# Asumme a given gamma\n",
    "gamma       = 1.\n",
    "\n",
    "def UL(gamma, Tobs_R, robs_R, mass_R, heat_int_R, relT_R):\n",
    "    # Calculate TS_obs\n",
    "    q_gamma_obs = TS(gamma, 1., 5., Tobs_R, robs_R, mass_R, heat_int_R, relT_R)\n",
    "    \n",
    "    # Construct pdf of TS for signal + background\n",
    "    steps       = 200\n",
    "    q_gamma_s   = np.ones(steps)\n",
    "    path   = \"/home/mariacst/exoplanets/exoplanets/data/\"\n",
    "    data   = np.genfromtxt(path + \"./ATMO_CEQ_vega_MIRI.txt\", unpack=True)\n",
    "    points = np.transpose(data[0:2, :])\n",
    "    values = data[2]\n",
    "    # Should I add noise in the generation of toy Monte Carlo experiments???\n",
    "    nBDs=100; relT=0.1; relM=0.1; relR=0.1; relA=0.1\n",
    "    for i in range(steps):\n",
    "        robs, Tobs, mass, ages = mock_population_all(nBDs, relT, relM, relR, relA,\n",
    "                                                 1., gamma, 5., \n",
    "                                                 rho0_true=rho0, \n",
    "                                                 v=None)    \n",
    "        xi       = np.transpose(np.asarray([ages, mass]))                            \n",
    "        Teff     = griddata(points, values, xi)                                        \n",
    "        heat_int = heat(Teff, np.ones(len(Teff))*R_jup.value)\n",
    "        \n",
    "        q_gamma_s[i] = TS(gamma, 1., 5., Tobs, robs, mass, heat_int, relT, rho0=0.42, v=None)\n",
    "        \n",
    "    counts, bins_ed, _ = ax.hist(q_gamma_s, bins=50, histtype=\"step\", lw=2.5, color=\"r\", density=True)\n",
    "    \n",
    "    pos = np.where(bins_ed > q_gamma_obs)\n",
    "    _p = 0\n",
    "    for i in range(len(pos[0])):\n",
    "        _p += counts[-1-i]*(bins[1] + bins[0])\n",
    "    #if np.abs(_p-0.05) < 0.01:\n",
    "    #    break\n",
    "    return _p, counts, bins_ed"
   ]
  },
  {
   "cell_type": "code",
   "execution_count": 171,
   "id": "mediterranean-cliff",
   "metadata": {},
   "outputs": [
    {
     "name": "stdout",
     "output_type": "stream",
     "text": [
      "0.5 1.2339245278179403\n",
      "0.5357142857142857 0.9124201573208439\n",
      "0.5714285714285714 0.631829981691125\n",
      "0.6071428571428571 0.2861507592688307\n",
      "0.6428571428571428 0.4449823350783776\n",
      "0.6785714285714286 0.46772999830686246\n",
      "0.7142857142857143 0.18320843381240806\n",
      "0.75 0.08857881112053015\n",
      "0.7857142857142857 0.1350283164837967\n",
      "0.8214285714285714 0.1092093937267057\n",
      "0.8571428571428571 0.03624429209945426\n",
      "0.8928571428571428 0\n",
      "0.9285714285714286 0\n"
     ]
    },
    {
     "ename": "KeyboardInterrupt",
     "evalue": "",
     "output_type": "error",
     "traceback": [
      "\u001b[0;31m---------------------------------------------------------------------------\u001b[0m",
      "\u001b[0;31mKeyboardInterrupt\u001b[0m                         Traceback (most recent call last)",
      "\u001b[0;32m<ipython-input-171-149e6f805f97>\u001b[0m in \u001b[0;36m<module>\u001b[0;34m\u001b[0m\n\u001b[1;32m      5\u001b[0m \u001b[0;34m\u001b[0m\u001b[0m\n\u001b[1;32m      6\u001b[0m \u001b[0;32mfor\u001b[0m \u001b[0mg\u001b[0m \u001b[0;32min\u001b[0m \u001b[0mgamma\u001b[0m\u001b[0;34m:\u001b[0m\u001b[0;34m\u001b[0m\u001b[0;34m\u001b[0m\u001b[0m\n\u001b[0;32m----> 7\u001b[0;31m     \u001b[0m_p\u001b[0m\u001b[0;34m,\u001b[0m \u001b[0m_c\u001b[0m\u001b[0;34m,\u001b[0m \u001b[0m_b\u001b[0m \u001b[0;34m=\u001b[0m \u001b[0mUL\u001b[0m\u001b[0;34m(\u001b[0m\u001b[0mg\u001b[0m\u001b[0;34m,\u001b[0m \u001b[0mTobs_R\u001b[0m\u001b[0;34m,\u001b[0m \u001b[0mrobs_R\u001b[0m\u001b[0;34m,\u001b[0m \u001b[0mmass_R\u001b[0m\u001b[0;34m,\u001b[0m \u001b[0mheat_int_R\u001b[0m\u001b[0;34m,\u001b[0m \u001b[0mrelT_R\u001b[0m\u001b[0;34m)\u001b[0m\u001b[0;34m\u001b[0m\u001b[0;34m\u001b[0m\u001b[0m\n\u001b[0m\u001b[1;32m      8\u001b[0m     \u001b[0mp\u001b[0m\u001b[0;34m.\u001b[0m\u001b[0mappend\u001b[0m\u001b[0;34m(\u001b[0m\u001b[0m_p\u001b[0m\u001b[0;34m)\u001b[0m\u001b[0;34m\u001b[0m\u001b[0;34m\u001b[0m\u001b[0m\n\u001b[1;32m      9\u001b[0m     \u001b[0mcounts\u001b[0m\u001b[0;34m.\u001b[0m\u001b[0mappend\u001b[0m\u001b[0;34m(\u001b[0m\u001b[0m_c\u001b[0m\u001b[0;34m)\u001b[0m\u001b[0;34m\u001b[0m\u001b[0;34m\u001b[0m\u001b[0m\n",
      "\u001b[0;32m<ipython-input-168-430441cc31a6>\u001b[0m in \u001b[0;36mUL\u001b[0;34m(gamma, Tobs_R, robs_R, mass_R, heat_int_R, relT_R)\u001b[0m\n\u001b[1;32m     21\u001b[0m                                                  v=None)    \n\u001b[1;32m     22\u001b[0m         \u001b[0mxi\u001b[0m       \u001b[0;34m=\u001b[0m \u001b[0mnp\u001b[0m\u001b[0;34m.\u001b[0m\u001b[0mtranspose\u001b[0m\u001b[0;34m(\u001b[0m\u001b[0mnp\u001b[0m\u001b[0;34m.\u001b[0m\u001b[0masarray\u001b[0m\u001b[0;34m(\u001b[0m\u001b[0;34m[\u001b[0m\u001b[0mages\u001b[0m\u001b[0;34m,\u001b[0m \u001b[0mmass\u001b[0m\u001b[0;34m]\u001b[0m\u001b[0;34m)\u001b[0m\u001b[0;34m)\u001b[0m\u001b[0;34m\u001b[0m\u001b[0;34m\u001b[0m\u001b[0m\n\u001b[0;32m---> 23\u001b[0;31m         \u001b[0mTeff\u001b[0m     \u001b[0;34m=\u001b[0m \u001b[0mgriddata\u001b[0m\u001b[0;34m(\u001b[0m\u001b[0mpoints\u001b[0m\u001b[0;34m,\u001b[0m \u001b[0mvalues\u001b[0m\u001b[0;34m,\u001b[0m \u001b[0mxi\u001b[0m\u001b[0;34m)\u001b[0m\u001b[0;34m\u001b[0m\u001b[0;34m\u001b[0m\u001b[0m\n\u001b[0m\u001b[1;32m     24\u001b[0m         \u001b[0mheat_int\u001b[0m \u001b[0;34m=\u001b[0m \u001b[0mheat\u001b[0m\u001b[0;34m(\u001b[0m\u001b[0mTeff\u001b[0m\u001b[0;34m,\u001b[0m \u001b[0mnp\u001b[0m\u001b[0;34m.\u001b[0m\u001b[0mones\u001b[0m\u001b[0;34m(\u001b[0m\u001b[0mlen\u001b[0m\u001b[0;34m(\u001b[0m\u001b[0mTeff\u001b[0m\u001b[0;34m)\u001b[0m\u001b[0;34m)\u001b[0m\u001b[0;34m*\u001b[0m\u001b[0mR_jup\u001b[0m\u001b[0;34m.\u001b[0m\u001b[0mvalue\u001b[0m\u001b[0;34m)\u001b[0m\u001b[0;34m\u001b[0m\u001b[0;34m\u001b[0m\u001b[0m\n\u001b[1;32m     25\u001b[0m \u001b[0;34m\u001b[0m\u001b[0m\n",
      "\u001b[0;32m~/exoplanets/.venv/lib64/python3.6/site-packages/scipy/interpolate/ndgriddata.py\u001b[0m in \u001b[0;36mgriddata\u001b[0;34m(points, values, xi, method, fill_value, rescale)\u001b[0m\n\u001b[1;32m    218\u001b[0m         ip = LinearNDInterpolator(points, values, fill_value=fill_value,\n\u001b[1;32m    219\u001b[0m                                   rescale=rescale)\n\u001b[0;32m--> 220\u001b[0;31m         \u001b[0;32mreturn\u001b[0m \u001b[0mip\u001b[0m\u001b[0;34m(\u001b[0m\u001b[0mxi\u001b[0m\u001b[0;34m)\u001b[0m\u001b[0;34m\u001b[0m\u001b[0;34m\u001b[0m\u001b[0m\n\u001b[0m\u001b[1;32m    221\u001b[0m     \u001b[0;32melif\u001b[0m \u001b[0mmethod\u001b[0m \u001b[0;34m==\u001b[0m \u001b[0;34m'cubic'\u001b[0m \u001b[0;32mand\u001b[0m \u001b[0mndim\u001b[0m \u001b[0;34m==\u001b[0m \u001b[0;36m2\u001b[0m\u001b[0;34m:\u001b[0m\u001b[0;34m\u001b[0m\u001b[0;34m\u001b[0m\u001b[0m\n\u001b[1;32m    222\u001b[0m         ip = CloughTocher2DInterpolator(points, values, fill_value=fill_value,\n",
      "\u001b[0;32minterpnd.pyx\u001b[0m in \u001b[0;36mscipy.interpolate.interpnd.NDInterpolatorBase.__call__\u001b[0;34m()\u001b[0m\n",
      "\u001b[0;32m~/exoplanets/.venv/lib64/python3.6/site-packages/numpy/core/_asarray.py\u001b[0m in \u001b[0;36masarray\u001b[0;34m(a, dtype, order)\u001b[0m\n\u001b[1;32m     12\u001b[0m ]\n\u001b[1;32m     13\u001b[0m \u001b[0;34m\u001b[0m\u001b[0m\n\u001b[0;32m---> 14\u001b[0;31m \u001b[0;34m@\u001b[0m\u001b[0mset_module\u001b[0m\u001b[0;34m(\u001b[0m\u001b[0;34m'numpy'\u001b[0m\u001b[0;34m)\u001b[0m\u001b[0;34m\u001b[0m\u001b[0;34m\u001b[0m\u001b[0m\n\u001b[0m\u001b[1;32m     15\u001b[0m \u001b[0;32mdef\u001b[0m \u001b[0masarray\u001b[0m\u001b[0;34m(\u001b[0m\u001b[0ma\u001b[0m\u001b[0;34m,\u001b[0m \u001b[0mdtype\u001b[0m\u001b[0;34m=\u001b[0m\u001b[0;32mNone\u001b[0m\u001b[0;34m,\u001b[0m \u001b[0morder\u001b[0m\u001b[0;34m=\u001b[0m\u001b[0;32mNone\u001b[0m\u001b[0;34m)\u001b[0m\u001b[0;34m:\u001b[0m\u001b[0;34m\u001b[0m\u001b[0;34m\u001b[0m\u001b[0m\n\u001b[1;32m     16\u001b[0m     \"\"\"Convert the input to an array.\n",
      "\u001b[0;31mKeyboardInterrupt\u001b[0m: "
     ]
    }
   ],
   "source": [
    "gamma   = np.linspace(0.5, 1., 15)\n",
    "p       = []\n",
    "counts  = [] \n",
    "bins_ed = []\n",
    "\n",
    "for g in gamma:\n",
    "    _p, _c, _b = UL(g, Tobs_R, robs_R, mass_R, heat_int_R, relT_R)\n",
    "    p.append(_p)\n",
    "    counts.append(_c)\n",
    "    bins_ed.append(_b)\n",
    "    print(g, _p)\n",
    "    if _p < 0.05:\n",
    "        break"
   ]
  },
  {
   "cell_type": "code",
   "execution_count": 122,
   "id": "adequate-dynamics",
   "metadata": {},
   "outputs": [],
   "source": [
    "from scipy.stats import chi2\n",
    "def half_chi2(q):\n",
    "    if q==0:\n",
    "        return (0.5 + chi2.pdf(q, 1))\n",
    "    else:\n",
    "        return (chi2.pdf(q, 1))\n",
    "    \n",
    "#def half_chi2(q):\n",
    "#    return (np.heaviside(-q, 0.5) + chi2(q, 1))\n",
    "\n",
    "q    = np.linspace(0, 8, 100)\n",
    "f_th = [half_chi2(_q) for _q in q]"
   ]
  },
  {
   "cell_type": "code",
   "execution_count": 137,
   "id": "tested-engineering",
   "metadata": {
    "scrolled": true
   },
   "outputs": [
    {
     "data": {
      "image/png": "[encoded data removed]",
      "text/plain": [
       "<Figure size 504x360 with 1 Axes>"
      ]
     },
     "metadata": {
      "needs_background": "light"
     },
     "output_type": "display_data"
    }
   ],
   "source": [
    "fig, ax = plt.subplots(1, 1, figsize=(7, 5))\n",
    "\n",
    "#ax.plot(q, f_th, color=\"k\", ls=\":\", lw=2.5)\n",
    "\n",
    "ax.axvline(q_gamma_obs, ls=\"--\", color=\"blue\", lw=2.5)\n",
    "counts, bins_ed, _ = ax.hist(q_gamma_s, bins=50, histtype=\"step\", lw=2.5, color=\"r\", density=True)"
   ]
  },
  {
   "cell_type": "markdown",
   "id": "corporate-wealth",
   "metadata": {},
   "source": [
    "**Final tentative**"
   ]
  },
  {
   "cell_type": "markdown",
   "id": "occasional-snowboard",
   "metadata": {},
   "source": [
    "For this part:\n",
    "\n",
    "\\begin{equation}\n",
    "\\ln\\mathcal{L}_{s+b}(\\gamma, r_s, f) \\propto -\\frac{1}{2\\sigma_T^2}\\sum_{i=1}^{N}\\frac{\\left(T_{DM, i}(\\gamma, r_s, f)+T_{int, i}-T_{obs, i}\\right)^2}{T_{obs, i}^2}\n",
    "\\end{equation}\n",
    "\n",
    "and \n",
    "\n",
    "\\begin{equation}\n",
    "\\ln\\mathcal{L}_{b} \\propto -\\frac{1}{2\\sigma_T^2}\\sum_{i=1}^{N}\\frac{\\left(T_{int, i}-T_{obs, i}\\right)^2}{T_{obs, i}^2}\n",
    "\\end{equation}\n",
    "\n",
    "\n",
    "But the test statistics is given by:\n",
    "\n",
    "\\begin{equation}\n",
    "TS = q_\\gamma = \n",
    "-2\\ln\\left(\\frac{\\mathcal{L}_{s+b}(\\gamma, \\hat{\\hat{f}})}{\\mathcal{L}_b}\\right)\n",
    "\\end{equation}"
   ]
  },
  {
   "cell_type": "code",
   "execution_count": 2,
   "id": "banner-fitting",
   "metadata": {},
   "outputs": [],
   "source": [
    "def lnL_sb(gamma, f, rs, Tobs, robs, Mobs, heat_int, relT, rho0=0.42, v=None):\n",
    "    \"\"\"\n",
    "    Return ln(L) assuming predicted temperature = DM + intrinsic\n",
    "    \"\"\"  \n",
    "    # Calculate predicted temperature (DM + intrinsic)\n",
    "    T = temperature_withDM(robs, heat_int, f=f, M=Mobs*M_sun.value, parameters=[gamma, rs, rho0], v=v)\n",
    "    # return\n",
    "    return -0.5*np.sum(((T-Tobs)/(relT*Tobs))**2.) \n",
    "\n",
    "def lnL_b(Tobs, heat_int, relT):\n",
    "    \"\"\"\n",
    "    Return ln(L) assuming predicted temperature = intrinsic\n",
    "    \"\"\"  \n",
    "    # Calculate predicted intrinsic temperature\n",
    "    T = temperature(heat_int, R_jup.value).value\n",
    "    # return\n",
    "    return -0.5*np.sum(((T-Tobs)/(relT*Tobs))**2.) \n",
    "\n",
    "\n",
    "def _lnL_sb_minimizer(p, gamma, rs, Tobs, robs, Mobs, heat_int, relT, rho0=0.42, v=None):\n",
    "    \"\"\"\n",
    "    Return -2ln(L) (assumes Temperature = DM + intrinsic)\n",
    "    \"\"\"\n",
    "    # free parameters of the fitting  \n",
    "    f = p[\"f\"]\n",
    "    # Calculate predicted Temperature (DM + intrinsic)\n",
    "    T = temperature_withDM(robs, heat_int, f=f, M=Mobs*M_sun.value, parameters=[gamma, rs, rho0], v=v)\n",
    "    # return\n",
    "    return ((T-Tobs)/(relT*Tobs))**2."
   ]
  },
  {
   "cell_type": "code",
   "execution_count": 3,
   "id": "powerful-sender",
   "metadata": {},
   "outputs": [],
   "source": [
    "def TS(gamma, rs, Tobs, robs, Mobs, heat_int, relT, rho0=0.42, v=None):\n",
    "    \"\"\"\n",
    "    Test statistics\n",
    "    \"\"\"\n",
    "    params = Parameters()\n",
    "    params.add(\"f\", value=0.5, min=0., max=1.)\n",
    "    out = minimize(_lnL_sb_minimizer, params, args=(gamma, rs, Tobs, robs, Mobs, heat_int, relT))\n",
    "    assert out.success == True, \"MLE gamma could not be found!\"\n",
    "    f_ML = out.params[\"f\"].value\n",
    "    #print(\"f_ML = \", f_ML)\n",
    "    # return\n",
    "    return (-2.*lnL_sb(gamma, f_ML, rs, Tobs, robs, Mobs, heat_int, relT)-2*lnL_b(Tobs, heat_int, relT))"
   ]
  },
  {
   "cell_type": "markdown",
   "id": "cloudy-quality",
   "metadata": {},
   "source": [
    "Compute pdf for TS"
   ]
  },
  {
   "cell_type": "code",
   "execution_count": 13,
   "id": "passing-yugoslavia",
   "metadata": {},
   "outputs": [],
   "source": [
    "def p_value(gamma_k, f, rs, Tobs_R, robs_R, Mobs_R, heat_int_R, relT_R, steps=200):\n",
    "    \"\"\"\n",
    "    Return p-value and TS pdf for gamma_k @ (f, rs)\n",
    "    \"\"\"\n",
    "    # Find the MLE of f in observation\n",
    "    params = Parameters()\n",
    "    params.add(\"f\", value=0.5, min=0., max=1.)\n",
    "    out = minimize(_lnL_sb_minimizer, params, args=(gamma_k, rs, Tobs_R, robs_R, Mobs_R, heat_int_R, relT_R))\n",
    "    assert out.success == True, \"MLE gamma could not be found!\"\n",
    "    f_ML_obs = out.params[\"f\"].value\n",
    "    print(\"f_ML_obs = \", f_ML_obs)\n",
    "    # Compute TS pdf\n",
    "    TS_k  = np.zeros(steps)\n",
    "    # Load ATMO2020 model\n",
    "    path   = \"/home/mariacst/exoplanets/exoplanets/data/\"\n",
    "    data   = np.genfromtxt(path + \"./ATMO_CEQ_vega_MIRI.txt\", unpack=True)\n",
    "    points = np.transpose(data[0:2, :])\n",
    "    values = data[2]\n",
    "    for i in range(steps):\n",
    "        # Generate mock data sample under the assumption of gamma_k and f_ML_obs\n",
    "        robs, Tobs, Mobs, ages = mock_population_all(nBDs, relT_R, relM_R, relR_R, relA_R,\n",
    "                                                     f_ML_obs, gamma_k, rs)\n",
    "        # Predicted intrinsic temperatures\n",
    "        xi       = np.transpose(np.asarray([ages, Mobs]))                            \n",
    "        Teff     = griddata(points, values, xi)                                        \n",
    "        heat_int = heat(Teff, np.ones(len(Teff))*R_jup.value)   \n",
    "        # TS\n",
    "        TS_k[i] = TS(gamma_k, f, rs, Tobs, robs, Mobs, heat_int, relT_R)\n",
    "    # TS pdf @ gamma_k\n",
    "    counts, bins_ed, _ = plt.hist(TS_k, bins=50, density=True)\n",
    "    # observed TS\n",
    "    q_gamma_k_obs = TS(gamma_k, f, rs, Tobs_R, robs_R, Mobs_R, heat_int_R, relT_R)\n",
    "    # Compute p-value\n",
    "    pos = np.where(bins_ed > q_gamma_k_obs)\n",
    "    _p = 0\n",
    "    for i in range(len(pos[0])):\n",
    "        _p += counts[-1-i]*(bins_ed[1] + bins_ed[0])\n",
    "    # return\n",
    "    return _p, counts, bins_ed"
   ]
  },
  {
   "cell_type": "markdown",
   "id": "separated-ireland",
   "metadata": {},
   "source": [
    "*Real* observation - only background"
   ]
  },
  {
   "cell_type": "code",
   "execution_count": 14,
   "id": "changed-enzyme",
   "metadata": {},
   "outputs": [],
   "source": [
    "nBDs=100; relT_R=0.10; relM_R=0.10; relR_R=0.10; relA_R=0.10\n",
    "rho0=0.42\n",
    "# Load ATMO2020 model\n",
    "path   = \"/home/mariacst/exoplanets/exoplanets/data/\"\n",
    "data   = np.genfromtxt(path + \"./ATMO_CEQ_vega_MIRI.txt\", unpack=True)\n",
    "points = np.transpose(data[0:2, :])\n",
    "values = data[2]\n",
    "    \n",
    "robs_R, Tobs_R, mass_R, ages_R = mock_population_all(nBDs, relT_R, relM_R, relR_R, relA_R,\n",
    "                                         0, 1., 1., \n",
    "                                         rho0_true=rho0, \n",
    "                                         v=None)\n",
    "\n",
    "xi         = np.transpose(np.asarray([ages_R, mass_R]))                            \n",
    "Teff       = griddata(points, values, xi)                                        \n",
    "heat_int_R = heat(Teff, np.ones(len(Teff))*R_jup.value)"
   ]
  },
  {
   "cell_type": "code",
   "execution_count": 15,
   "id": "senior-carol",
   "metadata": {},
   "outputs": [
    {
     "name": "stdout",
     "output_type": "stream",
     "text": [
      "f_ML_obs =  0.4141606863393824\n",
      "0.0 53.38317331646079\n",
      "f_ML_obs =  0.28984537187692533\n",
      "0.10714285714285714 62.792146196792295\n",
      "f_ML_obs =  0.2017796143561405\n",
      "0.21428571428571427 55.526051995860584\n",
      "f_ML_obs =  0.1409915906912168\n",
      "0.3214285714285714 58.48550321308226\n",
      "f_ML_obs =  0.0988542276623326\n"
     ]
    },
    {
     "ename": "KeyboardInterrupt",
     "evalue": "",
     "output_type": "error",
     "traceback": [
      "\u001b[0;31m---------------------------------------------------------------------------\u001b[0m",
      "\u001b[0;31mKeyboardInterrupt\u001b[0m                         Traceback (most recent call last)",
      "\u001b[0;32m<ipython-input-15-db2acf779e42>\u001b[0m in \u001b[0;36m<module>\u001b[0;34m\u001b[0m\n\u001b[1;32m      6\u001b[0m \u001b[0;34m\u001b[0m\u001b[0m\n\u001b[1;32m      7\u001b[0m \u001b[0;32mfor\u001b[0m \u001b[0mg\u001b[0m \u001b[0;32min\u001b[0m \u001b[0mgamma_k\u001b[0m\u001b[0;34m:\u001b[0m\u001b[0;34m\u001b[0m\u001b[0;34m\u001b[0m\u001b[0m\n\u001b[0;32m----> 8\u001b[0;31m     \u001b[0m_p\u001b[0m\u001b[0;34m,\u001b[0m \u001b[0m_c\u001b[0m\u001b[0;34m,\u001b[0m \u001b[0m_b\u001b[0m \u001b[0;34m=\u001b[0m \u001b[0mp_value\u001b[0m\u001b[0;34m(\u001b[0m\u001b[0mg\u001b[0m\u001b[0;34m,\u001b[0m \u001b[0mrs\u001b[0m\u001b[0;34m,\u001b[0m \u001b[0mTobs_R\u001b[0m\u001b[0;34m,\u001b[0m \u001b[0mrobs_R\u001b[0m\u001b[0;34m,\u001b[0m \u001b[0mmass_R\u001b[0m\u001b[0;34m,\u001b[0m \u001b[0mheat_int_R\u001b[0m\u001b[0;34m,\u001b[0m \u001b[0mrelT_R\u001b[0m\u001b[0;34m)\u001b[0m\u001b[0;34m\u001b[0m\u001b[0;34m\u001b[0m\u001b[0m\n\u001b[0m\u001b[1;32m      9\u001b[0m     \u001b[0mp\u001b[0m\u001b[0;34m.\u001b[0m\u001b[0mappend\u001b[0m\u001b[0;34m(\u001b[0m\u001b[0m_p\u001b[0m\u001b[0;34m)\u001b[0m\u001b[0;34m\u001b[0m\u001b[0;34m\u001b[0m\u001b[0m\n\u001b[1;32m     10\u001b[0m     \u001b[0mcounts\u001b[0m\u001b[0;34m.\u001b[0m\u001b[0mappend\u001b[0m\u001b[0;34m(\u001b[0m\u001b[0m_c\u001b[0m\u001b[0;34m)\u001b[0m\u001b[0;34m\u001b[0m\u001b[0;34m\u001b[0m\u001b[0m\n",
      "\u001b[0;32m<ipython-input-13-50ee13dbe062>\u001b[0m in \u001b[0;36mp_value\u001b[0;34m(gamma_k, rs, Tobs_R, robs_R, Mobs_R, heat_int_R, relT_R)\u001b[0m\n\u001b[1;32m     25\u001b[0m         \u001b[0;31m# Predicted intrinsic temperatures\u001b[0m\u001b[0;34m\u001b[0m\u001b[0;34m\u001b[0m\u001b[0;34m\u001b[0m\u001b[0m\n\u001b[1;32m     26\u001b[0m         \u001b[0mxi\u001b[0m       \u001b[0;34m=\u001b[0m \u001b[0mnp\u001b[0m\u001b[0;34m.\u001b[0m\u001b[0mtranspose\u001b[0m\u001b[0;34m(\u001b[0m\u001b[0mnp\u001b[0m\u001b[0;34m.\u001b[0m\u001b[0masarray\u001b[0m\u001b[0;34m(\u001b[0m\u001b[0;34m[\u001b[0m\u001b[0mages\u001b[0m\u001b[0;34m,\u001b[0m \u001b[0mMobs\u001b[0m\u001b[0;34m]\u001b[0m\u001b[0;34m)\u001b[0m\u001b[0;34m)\u001b[0m\u001b[0;34m\u001b[0m\u001b[0;34m\u001b[0m\u001b[0m\n\u001b[0;32m---> 27\u001b[0;31m         \u001b[0mTeff\u001b[0m     \u001b[0;34m=\u001b[0m \u001b[0mgriddata\u001b[0m\u001b[0;34m(\u001b[0m\u001b[0mpoints\u001b[0m\u001b[0;34m,\u001b[0m \u001b[0mvalues\u001b[0m\u001b[0;34m,\u001b[0m \u001b[0mxi\u001b[0m\u001b[0;34m)\u001b[0m\u001b[0;34m\u001b[0m\u001b[0;34m\u001b[0m\u001b[0m\n\u001b[0m\u001b[1;32m     28\u001b[0m         \u001b[0mheat_int\u001b[0m \u001b[0;34m=\u001b[0m \u001b[0mheat\u001b[0m\u001b[0;34m(\u001b[0m\u001b[0mTeff\u001b[0m\u001b[0;34m,\u001b[0m \u001b[0mnp\u001b[0m\u001b[0;34m.\u001b[0m\u001b[0mones\u001b[0m\u001b[0;34m(\u001b[0m\u001b[0mlen\u001b[0m\u001b[0;34m(\u001b[0m\u001b[0mTeff\u001b[0m\u001b[0;34m)\u001b[0m\u001b[0;34m)\u001b[0m\u001b[0;34m*\u001b[0m\u001b[0mR_jup\u001b[0m\u001b[0;34m.\u001b[0m\u001b[0mvalue\u001b[0m\u001b[0;34m)\u001b[0m\u001b[0;34m\u001b[0m\u001b[0;34m\u001b[0m\u001b[0m\n\u001b[1;32m     29\u001b[0m         \u001b[0;31m# TS\u001b[0m\u001b[0;34m\u001b[0m\u001b[0;34m\u001b[0m\u001b[0;34m\u001b[0m\u001b[0m\n",
      "\u001b[0;32m~/exoplanets/.venv/lib64/python3.6/site-packages/scipy/interpolate/ndgriddata.py\u001b[0m in \u001b[0;36mgriddata\u001b[0;34m(points, values, xi, method, fill_value, rescale)\u001b[0m\n\u001b[1;32m    217\u001b[0m     \u001b[0;32melif\u001b[0m \u001b[0mmethod\u001b[0m \u001b[0;34m==\u001b[0m \u001b[0;34m'linear'\u001b[0m\u001b[0;34m:\u001b[0m\u001b[0;34m\u001b[0m\u001b[0;34m\u001b[0m\u001b[0m\n\u001b[1;32m    218\u001b[0m         ip = LinearNDInterpolator(points, values, fill_value=fill_value,\n\u001b[0;32m--> 219\u001b[0;31m                                   rescale=rescale)\n\u001b[0m\u001b[1;32m    220\u001b[0m         \u001b[0;32mreturn\u001b[0m \u001b[0mip\u001b[0m\u001b[0;34m(\u001b[0m\u001b[0mxi\u001b[0m\u001b[0;34m)\u001b[0m\u001b[0;34m\u001b[0m\u001b[0;34m\u001b[0m\u001b[0m\n\u001b[1;32m    221\u001b[0m     \u001b[0;32melif\u001b[0m \u001b[0mmethod\u001b[0m \u001b[0;34m==\u001b[0m \u001b[0;34m'cubic'\u001b[0m \u001b[0;32mand\u001b[0m \u001b[0mndim\u001b[0m \u001b[0;34m==\u001b[0m \u001b[0;36m2\u001b[0m\u001b[0;34m:\u001b[0m\u001b[0;34m\u001b[0m\u001b[0;34m\u001b[0m\u001b[0m\n",
      "\u001b[0;32minterpnd.pyx\u001b[0m in \u001b[0;36mscipy.interpolate.interpnd.LinearNDInterpolator.__init__\u001b[0;34m()\u001b[0m\n",
      "\u001b[0;32mqhull.pyx\u001b[0m in \u001b[0;36mscipy.spatial.qhull.Delaunay.__init__\u001b[0;34m()\u001b[0m\n",
      "\u001b[0;32mqhull.pyx\u001b[0m in \u001b[0;36mscipy.spatial.qhull._QhullUser.__init__\u001b[0;34m()\u001b[0m\n",
      "\u001b[0;32mqhull.pyx\u001b[0m in \u001b[0;36mscipy.spatial.qhull.Delaunay._update\u001b[0;34m()\u001b[0m\n",
      "\u001b[0;32mqhull.pyx\u001b[0m in \u001b[0;36mscipy.spatial.qhull._QhullUser._update\u001b[0;34m()\u001b[0m\n",
      "\u001b[0;32m~/exoplanets/.venv/lib64/python3.6/site-packages/numpy/core/_methods.py\u001b[0m in \u001b[0;36m_amin\u001b[0;34m(a, axis, out, keepdims, initial, where)\u001b[0m\n\u001b[1;32m     39\u001b[0m     \u001b[0;32mreturn\u001b[0m \u001b[0mumr_maximum\u001b[0m\u001b[0;34m(\u001b[0m\u001b[0ma\u001b[0m\u001b[0;34m,\u001b[0m \u001b[0maxis\u001b[0m\u001b[0;34m,\u001b[0m \u001b[0;32mNone\u001b[0m\u001b[0;34m,\u001b[0m \u001b[0mout\u001b[0m\u001b[0;34m,\u001b[0m \u001b[0mkeepdims\u001b[0m\u001b[0;34m,\u001b[0m \u001b[0minitial\u001b[0m\u001b[0;34m,\u001b[0m \u001b[0mwhere\u001b[0m\u001b[0;34m)\u001b[0m\u001b[0;34m\u001b[0m\u001b[0;34m\u001b[0m\u001b[0m\n\u001b[1;32m     40\u001b[0m \u001b[0;34m\u001b[0m\u001b[0m\n\u001b[0;32m---> 41\u001b[0;31m def _amin(a, axis=None, out=None, keepdims=False,\n\u001b[0m\u001b[1;32m     42\u001b[0m           initial=_NoValue, where=True):\n\u001b[1;32m     43\u001b[0m     \u001b[0;32mreturn\u001b[0m \u001b[0mumr_minimum\u001b[0m\u001b[0;34m(\u001b[0m\u001b[0ma\u001b[0m\u001b[0;34m,\u001b[0m \u001b[0maxis\u001b[0m\u001b[0;34m,\u001b[0m \u001b[0;32mNone\u001b[0m\u001b[0;34m,\u001b[0m \u001b[0mout\u001b[0m\u001b[0;34m,\u001b[0m \u001b[0mkeepdims\u001b[0m\u001b[0;34m,\u001b[0m \u001b[0minitial\u001b[0m\u001b[0;34m,\u001b[0m \u001b[0mwhere\u001b[0m\u001b[0;34m)\u001b[0m\u001b[0;34m\u001b[0m\u001b[0;34m\u001b[0m\u001b[0m\n",
      "\u001b[0;31mKeyboardInterrupt\u001b[0m: "
     ]
    },
    {
     "data": {
      "image/png": "[encoded data removed]",
      "text/plain": [
       "<Figure size 504x360 with 1 Axes>"
      ]
     },
     "metadata": {
      "needs_background": "light"
     },
     "output_type": "display_data"
    },
    {
     "data": {
      "image/png": "[encoded data removed]",
      "text/plain": [
       "<Figure size 504x360 with 1 Axes>"
      ]
     },
     "metadata": {
      "needs_background": "light"
     },
     "output_type": "display_data"
    },
    {
     "data": {
      "image/png": "[encoded data removed]",
      "text/plain": [
       "<Figure size 504x360 with 1 Axes>"
      ]
     },
     "metadata": {
      "needs_background": "light"
     },
     "output_type": "display_data"
    },
    {
     "data": {
      "image/png": "[encoded data removed]",
      "text/plain": [
       "<Figure size 504x360 with 1 Axes>"
      ]
     },
     "metadata": {
      "needs_background": "light"
     },
     "output_type": "display_data"
    }
   ],
   "source": [
    "gamma_k = np.linspace(0., 1.5, 15)\n",
    "rs      = 5.\n",
    "p       = []\n",
    "counts  = [] \n",
    "bins_ed = []\n",
    "\n",
    "for g in gamma_k:\n",
    "    _p, _c, _b = p_value(g, rs, Tobs_R, robs_R, mass_R, heat_int_R, relT_R)\n",
    "    p.append(_p)\n",
    "    counts.append(_c)\n",
    "    bins_ed.append(_b)\n",
    "    print(g, _p)\n",
    "    if _p < 0.05:\n",
    "        break"
   ]
  },
  {
   "cell_type": "markdown",
   "id": "applied-collaboration",
   "metadata": {},
   "source": [
    "The problem is that $\\hat{\\hat{f}}(\\gamma)\\sim 0$, therefore $\\mathcal{L_{s+b}} --> \\mathcal{L_{b}}$ and $\\gamma$ is not really influencing the results. We are not able to set an UL! \n",
    "\n",
    "Solution: calculate UL for given value of $f$"
   ]
  },
  {
   "cell_type": "code",
   "execution_count": 33,
   "id": "necessary-inspection",
   "metadata": {},
   "outputs": [],
   "source": [
    "def lnL_sb(gamma, f, rs, Tobs, robs, Mobs, heat_int, relT, rho0=0.42, v=None):\n",
    "    \"\"\"\n",
    "    Return ln(L) assuming predicted temperature = DM + intrinsic\n",
    "    \"\"\"  \n",
    "    # Calculate predicted temperature (DM + intrinsic)\n",
    "    T = temperature_withDM(robs, heat_int, f=f, M=Mobs*M_sun.value, \n",
    "                           parameters=[gamma, rs, rho0], v=v)\n",
    "    # return\n",
    "    return -0.5*np.sum(((T-Tobs)/(relT*Tobs))**2.) \n",
    "\n",
    "def lnL_b(Tobs, heat_int, relT):\n",
    "    \"\"\"\n",
    "    Return ln(L) assuming predicted temperature = intrinsic\n",
    "    \"\"\"  \n",
    "    # Calculate predicted intrinsic temperature\n",
    "    T = temperature(heat_int, R_jup.value).value\n",
    "    # return\n",
    "    return -0.5*np.sum(((T-Tobs)/(relT*Tobs))**2.) \n",
    "\n",
    "def _lnL_sb_minimizer(p, gamma, rs, Tobs, robs, Mobs, heat_int, relT, \n",
    "                      rho0=0.42, v=None):\n",
    "    \"\"\"\n",
    "    Return -2ln(L) (assumes Temperature = DM + intrinsic)\n",
    "    \"\"\"\n",
    "    # free parameters of the fitting  \n",
    "    f = p[\"f\"]\n",
    "    # Calculate predicted Temperature (DM + intrinsic)\n",
    "    T = temperature_withDM(robs, heat_int, f=f, M=Mobs*M_sun.value, \n",
    "                           parameters=[gamma, rs, rho0], v=v)\n",
    "    # return\n",
    "    return ((T-Tobs)/(relT*Tobs))**2.\n",
    "\n",
    "def TS(gamma, f, rs, Tobs, robs, Mobs, heat_int, relT, rho0=0.42, v=None):\n",
    "    \"\"\"\n",
    "    Test statistics\n",
    "    \"\"\"\n",
    "    # return\n",
    "    return (-2.*lnL_sb(gamma, f, rs, Tobs, robs, Mobs, heat_int, relT, rho0, v)\n",
    "            -2*lnL_b(Tobs, heat_int, relT))\n",
    "\n",
    "\n",
    "def p_value(gamma_k, f, rs, Tobs_R, robs_R, Mobs_R, heat_int_R, relT_R, \n",
    "            steps=300):\n",
    "    \"\"\"\n",
    "    Return p-value and TS pdf for gamma_k @ (f, rs)\n",
    "    \"\"\"\n",
    "    # Find the MLE of f in observation\n",
    "    params = Parameters()\n",
    "    params.add(\"f\", value=0.5, min=0., max=1.)\n",
    "    out = minimize(_lnL_sb_minimizer, params, \n",
    "                   args=(gamma_k, rs, Tobs_R, robs_R, Mobs_R, heat_int_R, relT_R))\n",
    "    assert out.success == True, \"MLE gamma could not be found!\"\n",
    "    f_ML_obs = out.params[\"f\"].value\n",
    "    #print(\"f_ML_obs = \", f_ML_obs)\n",
    "    # Compute TS pdf\n",
    "    TS_k  = np.zeros(steps)\n",
    "    # Load ATMO2020 model\n",
    "    path   = \"/home/mariacst/exoplanets/exoplanets/data/\"\n",
    "    data   = np.genfromtxt(path + \"./ATMO_CEQ_vega_MIRI.txt\", unpack=True)\n",
    "    points = np.transpose(data[0:2, :])\n",
    "    values = data[2]\n",
    "    \n",
    "    for i in range(steps):\n",
    "        # Generate mock data sample under the assumption of gamma_k and f_ML_obs\n",
    "        robs, Tobs, Mobs, ages = mock_population_all(nBDs, relT_R, relM_R, relR_R, \n",
    "                                         relA_R, f_ML_obs, gamma_k, rs)\n",
    "        # Predicted intrinsic temperatures\n",
    "        xi       = np.transpose(np.asarray([ages, Mobs]))\n",
    "        Teff     = griddata(points, values, xi)\n",
    "        heat_int = heat(Teff, np.ones(len(Teff))*R_jup.value)\n",
    "        # TS\n",
    "        TS_k[i] = TS(gamma_k, f, rs, Tobs, robs, Mobs, heat_int, relT_R)\n",
    "    # TS pdf @ gamma_k\n",
    "    counts, bins_ed, _ = plt.hist(TS_k, bins=50, density=True)\n",
    "    # observed TS\n",
    "    q_gamma_k_obs = TS(gamma_k, f, rs, Tobs_R, robs_R, Mobs_R, heat_int_R, relT_R)\n",
    "    # Compute p-value\n",
    "    pos = np.where(bins_ed > q_gamma_k_obs)\n",
    "    _p = 0\n",
    "    for i in range(len(pos[0])):\n",
    "        _p += counts[-1-i]*(bins_ed[1] + bins_ed[0])\n",
    "    # return\n",
    "    return _p, counts, bins_ed, TS_k, q_gamma_k_obs"
   ]
  },
  {
   "cell_type": "code",
   "execution_count": 34,
   "id": "victorian-procedure",
   "metadata": {},
   "outputs": [],
   "source": [
    "# Generate \"real\" observation assuming only background (no DM)\n",
    "nBDs=100; relT_R=0.10; relM_R=0.10; relR_R=0.10; relA_R=0.10\n",
    "rho0=0.42\n",
    "# Load ATMO2020 model\n",
    "path   = \"/home/mariacst/exoplanets/exoplanets/data/\"\n",
    "data   = np.genfromtxt(path + \"./ATMO_CEQ_vega_MIRI.txt\", unpack=True)\n",
    "points = np.transpose(data[0:2, :])\n",
    "values = data[2]\n",
    "np.random.seed(42) # ========= reproducable results!\n",
    "robs_R, Tobs_R, mass_R, ages_R = mock_population_all(nBDs, relT_R, relM_R, \n",
    "                                     relR_R, relA_R,\n",
    "                                     0, 1., 1., rho0_true=rho0, v=None)\n",
    "xi         = np.transpose(np.asarray([ages_R, mass_R]))\n",
    "Teff       = griddata(points, values, xi)\n",
    "heat_int_R = heat(Teff, np.ones(len(Teff))*R_jup.value)"
   ]
  },
  {
   "cell_type": "code",
   "execution_count": 39,
   "id": "coordinated-third",
   "metadata": {},
   "outputs": [
    {
     "name": "stdout",
     "output_type": "stream",
     "text": [
      "0.0 60.35502009061481\n"
     ]
    },
    {
     "data": {
      "image/png": "[encoded data removed]",
      "text/plain": [
       "<Figure size 432x288 with 1 Axes>"
      ]
     },
     "metadata": {
      "needs_background": "light"
     },
     "output_type": "display_data"
    }
   ],
   "source": [
    "steps    = 200\n",
    "f        = 1.\n",
    "rs       = 5.\n",
    "gamma_k  = np.linspace(0, 1.5, 10) \n",
    "\n",
    "\n",
    "for g in gamma_k:\n",
    "    _p, _c, _b, TS_k, TS_obs = p_value(1.5, f, rs, Tobs_R, robs_R, mass_R, heat_int_R, relT_R, \n",
    "                        steps=steps)\n",
    "    print(g, _p)\n",
    "    break\n",
    "    if _p < 0.05:\n",
    "        gamma_up[i] = g\n",
    "        p_up[i]     = _p\n",
    "        print(rs[i], g, _p)\n",
    "        break"
   ]
  },
  {
   "cell_type": "code",
   "execution_count": 40,
   "id": "genetic-spain",
   "metadata": {},
   "outputs": [
    {
     "data": {
      "text/plain": [
       "<matplotlib.lines.Line2D at 0x7fbaca7f4c50>"
      ]
     },
     "execution_count": 40,
     "metadata": {},
     "output_type": "execute_result"
    },
    {
     "data": {
      "image/png": "[encoded data removed]",
      "text/plain": [
       "<Figure size 504x360 with 1 Axes>"
      ]
     },
     "metadata": {
      "needs_background": "light"
     },
     "output_type": "display_data"
    }
   ],
   "source": [
    "fig, ax = plt.subplots(1, 1, figsize=(7, 5))\n",
    "_, _, _ = ax.hist(TS_k, color=\"r\", lw=2.5, histtype=\"step\", density=True)\n",
    "ax.axvline(TS_obs, color=\"blue\", ls=\"-\", lw=2.5)"
   ]
  },
  {
   "cell_type": "markdown",
   "id": "massive-cisco",
   "metadata": {},
   "source": [
    "## Modified frequentist approach CL$_S$"
   ]
  },
  {
   "cell_type": "code",
   "execution_count": 28,
   "id": "massive-mainstream",
   "metadata": {},
   "outputs": [],
   "source": [
    "def lnL_sb(gamma, f, rs, Tobs, robs, Mobs, heat_int, relT, rho0=0.42, v=None):\n",
    "    \"\"\"\n",
    "    Return ln(L) assuming predicted temperature = DM + intrinsic\n",
    "    \"\"\"  \n",
    "    # Calculate predicted temperature (DM + intrinsic)\n",
    "    T = temperature_withDM(robs, heat_int, f=f, M=Mobs*M_sun.value, \n",
    "                           parameters=[gamma, rs, rho0], v=v)\n",
    "    # return\n",
    "    return -0.5*np.sum(((T-Tobs)/(relT*Tobs))**2.) \n",
    "\n",
    "def lnL_b(Tobs, heat_int, relT):\n",
    "    \"\"\"\n",
    "    Return ln(L) assuming predicted temperature = intrinsic\n",
    "    \"\"\"  \n",
    "    # Calculate predicted intrinsic temperature\n",
    "    T = temperature(heat_int, R_jup.value).value\n",
    "    # return\n",
    "    return -0.5*np.sum(((T-Tobs)/(relT*Tobs))**2.) \n",
    "\n",
    "\n",
    "def TS(gamma, f, rs, Tobs, robs, Mobs, heat_int, relT, rho0=0.42, v=None):\n",
    "    \"\"\"\n",
    "    Test statistics\n",
    "    \"\"\"\n",
    "    # return\n",
    "    return (-2.*lnL_sb(gamma, f, rs, Tobs, robs, Mobs, heat_int, relT, rho0, v)\n",
    "            -2*lnL_b(Tobs, heat_int, relT))"
   ]
  },
  {
   "cell_type": "code",
   "execution_count": 5,
   "id": "comprehensive-single",
   "metadata": {},
   "outputs": [],
   "source": [
    "def p_value_sb(gamma_k, f, rs, Tobs_R, robs_R, Mobs_R, heat_int_R, relT_R, \n",
    "               ax, steps=300):\n",
    "    \"\"\"\n",
    "    Return p-value and TS pdf for gamma_k @ (f, rs) under s+b hypothesis\n",
    "    \"\"\"\n",
    "    # Compute TS pdf\n",
    "    TS_k  = np.zeros(steps)\n",
    "    # Load ATMO2020 model\n",
    "    path   = \"/home/mariacst/exoplanets/exoplanets/data/\"\n",
    "    data   = np.genfromtxt(path + \"./ATMO_CEQ_vega_MIRI.txt\", unpack=True)\n",
    "    points = np.transpose(data[0:2, :])\n",
    "    values = data[2]    \n",
    "    for i in range(steps):\n",
    "        robs, Tobs, Mobs, ages = mock_population_all(nBDs, relT_R, relM_R, relR_R, \n",
    "                                         relA_R, f, gamma_k, rs)\n",
    "        # Predicted intrinsic temperatures\n",
    "        xi       = np.transpose(np.asarray([ages, Mobs]))\n",
    "        Teff     = griddata(points, values, xi)\n",
    "        heat_int = heat(Teff, np.ones(len(Teff))*R_jup.value)\n",
    "        # TS\n",
    "        TS_k[i] = TS(gamma_k, f, rs, Tobs, robs, Mobs, heat_int, relT_R)\n",
    "    # TS pdf @ gamma_k\n",
    "    counts, bins_ed, _ = ax.hist(TS_k, bins=50, density=True, histtype=\"step\", color=\"red\", lw=2.5)\n",
    "    # observed TS\n",
    "    q_gamma_k_obs = TS(gamma_k, f, rs, Tobs_R, robs_R, Mobs_R, heat_int_R, relT_R)\n",
    "    # Compute p-value\n",
    "    pos = np.where(bins_ed > q_gamma_k_obs)\n",
    "    _p = 0\n",
    "    for i in range(len(pos[0])):\n",
    "        _p += counts[-1-i]*(bins_ed[1] + bins_ed[0])\n",
    "    # return\n",
    "    return _p#, counts, bins_ed\n",
    "\n",
    "def p_value_b(gamma_k, f, rs, Tobs_R, robs_R, Mobs_R, heat_int_R, relT_R, \n",
    "            ax, steps=300):\n",
    "    \"\"\"\n",
    "    Return p-value and TS pdf for gamma_k @ (f, rs) under the b hypothesis\n",
    "    \"\"\"\n",
    "    # Compute TS pdf\n",
    "    TS_k  = np.zeros(steps)\n",
    "    # Load ATMO2020 model\n",
    "    path   = \"/home/mariacst/exoplanets/exoplanets/data/\"\n",
    "    data   = np.genfromtxt(path + \"./ATMO_CEQ_vega_MIRI.txt\", unpack=True)\n",
    "    points = np.transpose(data[0:2, :])\n",
    "    values = data[2]\n",
    "    \n",
    "    for i in range(steps):\n",
    "        # Generate experiments under s+b hypothesis\n",
    "        robs, Tobs, Mobs, ages = mock_population_all(nBDs, relT_R, relM_R, relR_R, \n",
    "                                         relA_R, 0., gamma_k, rs)\n",
    "        # Predicted intrinsic temperatures\n",
    "        xi       = np.transpose(np.asarray([ages, Mobs]))\n",
    "        Teff     = griddata(points, values, xi)\n",
    "        heat_int = heat(Teff, np.ones(len(Teff))*R_jup.value)\n",
    "        # TS\n",
    "        TS_k[i] = TS(gamma_k, f, rs, Tobs, robs, Mobs, heat_int, relT_R)\n",
    "    # TS pdf @ gamma_k\n",
    "    counts, bins_ed, _ = ax.hist(TS_k, bins=50, density=True, histtype=\"step\", color=\"blue\", lw=2.5)\n",
    "    # observed TS\n",
    "    q_gamma_k_obs = TS(gamma_k, f, rs, Tobs_R, robs_R, Mobs_R, heat_int_R, relT_R)\n",
    "    ax.axvline(q_gamma_k_obs, ls=\"--\", color=\"k\", lw=2.5)\n",
    "    # Compute p-value\n",
    "    pos = np.where(bins_ed > q_gamma_k_obs)\n",
    "    _p = 0\n",
    "    for i in range(len(pos[0])):\n",
    "        _p += counts[-1-i]*(bins_ed[1] + bins_ed[0])\n",
    "    # return\n",
    "    return _p#, counts, bins_ed"
   ]
  },
  {
   "cell_type": "code",
   "execution_count": 6,
   "id": "attended-flush",
   "metadata": {},
   "outputs": [],
   "source": [
    "# Generate \"real\" observation assuming only background (no DM)\n",
    "nBDs=100; relT_R=0.10; relM_R=0.10; relR_R=0.10; relA_R=0.10\n",
    "rho0=0.42\n",
    "# Load ATMO2020 model\n",
    "path   = \"/home/mariacst/exoplanets/exoplanets/data/\"\n",
    "data   = np.genfromtxt(path + \"./ATMO_CEQ_vega_MIRI.txt\", unpack=True)\n",
    "points = np.transpose(data[0:2, :])\n",
    "values = data[2]\n",
    "np.random.seed(42) # ========= reproducable results!\n",
    "robs_R, Tobs_R, mass_R, ages_R = mock_population_all(nBDs, relT_R, relM_R, \n",
    "                                     relR_R, relA_R,\n",
    "                                     0, 1., 1., rho0_true=rho0, v=None)\n",
    "xi         = np.transpose(np.asarray([ages_R, mass_R]))\n",
    "Teff       = griddata(points, values, xi)\n",
    "heat_int_R = heat(Teff, np.ones(len(Teff))*R_jup.value)\n",
    "\n",
    "steps    = 200\n",
    "f        = 1.\n",
    "rs       = 20.\n",
    "gamma_k  = 1.8"
   ]
  },
  {
   "cell_type": "code",
   "execution_count": 7,
   "id": "timely-character",
   "metadata": {},
   "outputs": [
    {
     "data": {
      "image/png": "[encoded data removed]",
      "text/plain": [
       "<Figure size 720x576 with 1 Axes>"
      ]
     },
     "metadata": {
      "needs_background": "light"
     },
     "output_type": "display_data"
    }
   ],
   "source": [
    "fig, ax = plt.subplots(1, 1, figsize=(10, 8))\n",
    "\n",
    "_p_sb = p_value_sb(gamma_k, f, rs, Tobs_R, robs_R, mass_R, heat_int_R, relT_R, ax, steps=steps)\n",
    "_p_b  = p_value_b(gamma_k, f, rs, Tobs_R, robs_R, mass_R, heat_int_R, relT_R, ax, steps=steps)"
   ]
  },
  {
   "cell_type": "code",
   "execution_count": 8,
   "id": "spare-exchange",
   "metadata": {},
   "outputs": [
    {
     "data": {
      "image/png": "[encoded data removed]",
      "text/plain": [
       "<Figure size 720x576 with 1 Axes>"
      ]
     },
     "metadata": {
      "needs_background": "light"
     },
     "output_type": "display_data"
    }
   ],
   "source": [
    "steps    = 200\n",
    "f        = 1.\n",
    "rs       = 20.\n",
    "gamma_k  = 0.2\n",
    "\n",
    "fig, ax = plt.subplots(1, 1, figsize=(10, 8))\n",
    "\n",
    "_p_sb = p_value_sb(gamma_k, f, rs, Tobs_R, robs_R, mass_R, heat_int_R, relT_R, ax, steps=steps)\n",
    "_p_b  = p_value_b(gamma_k, f, rs, Tobs_R, robs_R, mass_R, heat_int_R, relT_R, ax, steps=steps)"
   ]
  },
  {
   "cell_type": "code",
   "execution_count": 9,
   "id": "future-briefing",
   "metadata": {},
   "outputs": [
    {
     "data": {
      "image/png": "[encoded data removed]",
      "text/plain": [
       "<Figure size 720x576 with 1 Axes>"
      ]
     },
     "metadata": {
      "needs_background": "light"
     },
     "output_type": "display_data"
    }
   ],
   "source": [
    "steps    = 300\n",
    "f        = 1.\n",
    "rs       = 20.\n",
    "gamma_k  = 0.2\n",
    "\n",
    "fig, ax = plt.subplots(1, 1, figsize=(10, 8))\n",
    "\n",
    "_p_sb = p_value_sb(gamma_k, f, rs, Tobs_R, robs_R, mass_R, heat_int_R, relT_R, ax, steps=steps)\n",
    "_p_b  = p_value_b(gamma_k, f, rs, Tobs_R, robs_R, mass_R, heat_int_R, relT_R, ax, steps=steps)"
   ]
  },
  {
   "cell_type": "code",
   "execution_count": 16,
   "id": "large-pasta",
   "metadata": {},
   "outputs": [
    {
     "data": {
      "image/png": "[encoded data removed]",
      "text/plain": [
       "<Figure size 720x576 with 1 Axes>"
      ]
     },
     "metadata": {
      "needs_background": "light"
     },
     "output_type": "display_data"
    }
   ],
   "source": [
    "steps    = 500\n",
    "f        = 1.\n",
    "rs       = 20.\n",
    "gamma_k  = 0.2\n",
    "\n",
    "fig, ax = plt.subplots(1, 1, figsize=(10, 8))\n",
    "\n",
    "_p_sb = p_value_sb(gamma_k, f, rs, Tobs_R, robs_R, mass_R, heat_int_R, relT_R, ax, steps=steps)\n",
    "_p_b  = p_value_b(gamma_k, f, rs, Tobs_R, robs_R, mass_R, heat_int_R, relT_R, ax, steps=steps)"
   ]
  },
  {
   "cell_type": "code",
   "execution_count": 15,
   "id": "european-alloy",
   "metadata": {},
   "outputs": [
    {
     "data": {
      "text/plain": [
       "<matplotlib.legend.Legend at 0x7fde1a2b5cc0>"
      ]
     },
     "execution_count": 15,
     "metadata": {},
     "output_type": "execute_result"
    },
    {
     "data": {
      "image/png": "[encoded data removed]",
      "text/plain": [
       "<Figure size 432x288 with 1 Axes>"
      ]
     },
     "metadata": {
      "needs_background": "light"
     },
     "output_type": "display_data"
    }
   ],
   "source": [
    "rs1 = np.linspace(1., 20., 15) \n",
    "rs2 = np.asarray([1.0, 5.071428571428571, 10.5, 15.928571428571429, 20.0])\n",
    "UL1 = np.genfromtxt(\"/home/mariacst/exoplanets/exoplanets/python/UL_f1.0_1.dat\", unpack=True)[0]\n",
    "UL2 = np.genfromtxt(\"/home/mariacst/exoplanets/exoplanets/python/UL_f0.1_4.dat\", unpack=True)[0]\n",
    "UL3 = np.genfromtxt(\"/home/mariacst/exoplanets/exoplanets/python/UL_f1.0_6.dat\", unpack=True)[0]\n",
    "\n",
    "fig, ax = plt.subplots()\n",
    "ax.plot(rs1, UL1 , label=\"f=1.0\")\n",
    "ax.plot(rs2, UL2 , label=\"f=0.1\")\n",
    "ax.plot(rs2, UL3 , label=\"CL\")\n",
    "ax.set_ylim(0., 1.5)\n",
    "\n",
    "ax.legend()"
   ]
  },
  {
   "cell_type": "code",
   "execution_count": 23,
   "id": "loaded-parks",
   "metadata": {},
   "outputs": [
    {
     "name": "stdout",
     "output_type": "stream",
     "text": [
      "missing 86\n",
      "missing 98\n"
     ]
    },
    {
     "data": {
      "image/png": "[encoded data removed]",
      "text/plain": [
       "<Figure size 504x504 with 1 Axes>"
      ]
     },
     "metadata": {
      "needs_background": "light"
     },
     "output_type": "display_data"
    }
   ],
   "source": [
    "_path    = \"/home/mariacst/exoplanets/exoplanets/python/UL/\"\n",
    "steps    = 300\n",
    "    \n",
    "gamma_up = np.array([])  \n",
    "for i in range(100):\n",
    "    try:\n",
    "        _a       = np.genfromtxt(_path + \"UL_f1.0_rs5.0_{}_steps{}.dat\".format(i+1, steps))\n",
    "        gamma_up = np.concatenate((gamma_up, _a), axis=None)\n",
    "    except:\n",
    "        print(\"missing\", i+1)\n",
    "    \n",
    "fig, ax = plt.subplots(1, 1, figsize=(7, 7))\n",
    "_, bins, _ = ax.hist(gamma_up, bins=25, histtype=\"step\", lw=2.5, color=\"blue\")"
   ]
  },
  {
   "cell_type": "code",
   "execution_count": 25,
   "id": "offshore-yemen",
   "metadata": {},
   "outputs": [
    {
     "data": {
      "image/png": "[encoded data removed]",
      "text/plain": [
       "<Figure size 504x504 with 1 Axes>"
      ]
     },
     "metadata": {
      "needs_background": "light"
     },
     "output_type": "display_data"
    }
   ],
   "source": [
    "_path    = \"/home/mariacst/exoplanets/exoplanets/python/UL/\"\n",
    "steps    = 500\n",
    "    \n",
    "gamma_up = np.array([])  \n",
    "for i in range(100):\n",
    "    try:\n",
    "        _a       = np.genfromtxt(_path + \"UL_f1.0_rs5.0_{}_steps{}.dat\".format(i+1, steps))\n",
    "        gamma_up = np.concatenate((gamma_up, _a), axis=None)\n",
    "    except:\n",
    "        continue\n",
    "        #print(\"missing\", i+1)\n",
    "    \n",
    "fig, ax = plt.subplots(1, 1, figsize=(7, 7))\n",
    "_, bins, _ = ax.hist(gamma_up, bins=25, histtype=\"step\", lw=2.5, color=\"blue\")"
   ]
  },
  {
   "cell_type": "code",
   "execution_count": 32,
   "id": "declared-cholesterol",
   "metadata": {},
   "outputs": [],
   "source": [
    "# Generate \"real\" observation assuming only background (no DM)\n",
    "nBDs=100; relT_R=0.10; relM_R=0.10; relR_R=0.10; relA_R=0.10\n",
    "rho0=0.42\n",
    "# Load ATMO2020 model\n",
    "path   = \"/home/mariacst/exoplanets/exoplanets/data/\"\n",
    "data   = np.genfromtxt(path + \"./ATMO_CEQ_vega_MIRI.txt\", unpack=True)\n",
    "points = np.transpose(data[0:2, :])\n",
    "values = data[2]\n",
    "np.random.seed(42) # ========= reproducable results!\n",
    "robs_R, Tobs_R, Mobs_R, ages_R = mock_population_all(nBDs, relT_R, relM_R, \n",
    "                                     relR_R, relA_R,\n",
    "                                     0, 1., 1., rho0_true=rho0, v=None)\n",
    "\n",
    "xi         = np.transpose(np.asarray([ages_R, Mobs_R]))\n",
    "Teff       = griddata(points, values, xi)\n",
    "heat_int_R = heat(Teff, np.ones(len(Teff))*R_jup.value)"
   ]
  },
  {
   "cell_type": "code",
   "execution_count": 40,
   "id": "experienced-evanescence",
   "metadata": {},
   "outputs": [],
   "source": [
    "# observed\n",
    "f = 1.; rs = 5.\n",
    "gamma = np.linspace(0., 2., 30)\n",
    "q_obs = []\n",
    "for g in gamma:\n",
    "    q_obs.append(TS(g, f, rs, Tobs_R, robs_R, Mobs_R, heat_int_R, relT_R))\n",
    "    \n",
    "    \n",
    "# expected bckg\n",
    "np.random.seed(2)\n",
    "robs, Tobs, Mobs, ages = mock_population_all(nBDs, relT_R, relM_R, relR_R, relA_R, 0, 1., 1., \n",
    "                                             rho0_true=rho0, v=None)\n",
    "\n",
    "xi       = np.transpose(np.asarray([ages, Mobs]))\n",
    "Teff     = griddata(points, values, xi)\n",
    "heat_int = heat(Teff, np.ones(len(Teff))*R_jup.value)\n",
    "\n",
    "q_bck = []\n",
    "for g in gamma:\n",
    "    q_bck.append(TS(g, f, rs, Tobs, robs, Mobs, heat_int, relT_R))\n",
    "\n",
    "    \n",
    "    \n",
    "# expected bckg\n",
    "np.random.seed(7)\n",
    "robs, Tobs, Mobs, ages = mock_population_all(nBDs, relT_R, relM_R, relR_R, relA_R, f, 1., 5., \n",
    "                                             rho0_true=rho0, v=None)\n",
    "\n",
    "xi       = np.transpose(np.asarray([ages, Mobs]))\n",
    "Teff     = griddata(points, values, xi)\n",
    "heat_int = heat(Teff, np.ones(len(Teff))*R_jup.value)\n",
    "\n",
    "q_sb = []\n",
    "for g in gamma:\n",
    "    q_sb.append(TS(g, f, rs, Tobs, robs, Mobs, heat_int, relT_R))"
   ]
  },
  {
   "cell_type": "code",
   "execution_count": 41,
   "id": "banned-listing",
   "metadata": {},
   "outputs": [
    {
     "data": {
      "text/plain": [
       "Text(0, 0.5, 'TS')"
      ]
     },
     "execution_count": 41,
     "metadata": {},
     "output_type": "execute_result"
    },
    {
     "data": {
      "image/png": "[encoded data removed]",
      "text/plain": [
       "<Figure size 504x504 with 1 Axes>"
      ]
     },
     "metadata": {
      "needs_background": "light"
     },
     "output_type": "display_data"
    }
   ],
   "source": [
    "fig, ax = plt.subplots(1, 1, figsize=(7, 7))\n",
    "\n",
    "ax.plot(gamma, q_obs, color=\"r\", lw=2.5, label=\"observed\")\n",
    "ax.plot(gamma, q_bck, color=\"k\", lw=2.5, ls=\"--\", label=\"Expected background\")\n",
    "ax.plot(gamma, q_sb, color=\"blue\", lw=2.5, ls=\"--\", label=r\"Expected s($\\gamma=1$) + b\") # creo que esta mal!\n",
    "ax.set_xlabel(r\"$\\gamma$\")\n",
    "ax.set_ylabel(\"TS\")"
   ]
  },
  {
   "cell_type": "code",
   "execution_count": null,
   "id": "backed-ozone",
   "metadata": {},
   "outputs": [],
   "source": []
  }
 ],
 "metadata": {
  "kernelspec": {
   "display_name": "Python 3",
   "language": "python",
   "name": "python3"
  },
  "language_info": {
   "codemirror_mode": {
    "name": "ipython",
    "version": 3
   },
   "file_extension": ".py",
   "mimetype": "text/x-python",
   "name": "python",
   "nbconvert_exporter": "python",
   "pygments_lexer": "ipython3",
   "version": "3.6.8"
  }
 },
 "nbformat": 4,
 "nbformat_minor": 5
}
