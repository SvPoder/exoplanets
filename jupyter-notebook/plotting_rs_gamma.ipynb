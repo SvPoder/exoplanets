{
 "cells": [
  {
   "cell_type": "code",
   "execution_count": 1,
   "metadata": {},
   "outputs": [],
   "source": [
    "import matplotlib.pyplot as plt\n",
    "import matplotlib\n",
    "import pandas as pd\n",
    "import numpy as np\n",
    "from scipy.interpolate import make_interp_spline, BSpline"
   ]
  },
  {
   "cell_type": "code",
   "execution_count": 2,
   "metadata": {},
   "outputs": [],
   "source": [
    "data = \"/home/sven/repos/exoplanets/UL_fixedT10v100_nBDs100_f1.0_steps200_sigma0.1_rs30.0Asimov.dat\""
   ]
  },
  {
   "cell_type": "code",
   "execution_count": 3,
   "metadata": {},
   "outputs": [],
   "source": [
    "data_df = pd.read_csv(data, sep=\"\\s+\", names = ['rs', 'gamma'])"
   ]
  },
  {
   "cell_type": "code",
   "execution_count": 7,
   "metadata": {},
   "outputs": [
    {
     "data": {
      "text/html": [
       "<div>\n",
       "<style scoped>\n",
       "    .dataframe tbody tr th:only-of-type {\n",
       "        vertical-align: middle;\n",
       "    }\n",
       "\n",
       "    .dataframe tbody tr th {\n",
       "        vertical-align: top;\n",
       "    }\n",
       "\n",
       "    .dataframe thead th {\n",
       "        text-align: right;\n",
       "    }\n",
       "</style>\n",
       "<table border=\"1\" class=\"dataframe\">\n",
       "  <thead>\n",
       "    <tr style=\"text-align: right;\">\n",
       "      <th></th>\n",
       "      <th>rs</th>\n",
       "      <th>gamma</th>\n",
       "    </tr>\n",
       "  </thead>\n",
       "  <tbody>\n",
       "    <tr>\n",
       "      <th>0</th>\n",
       "      <td>2.5</td>\n",
       "      <td>0.0010</td>\n",
       "    </tr>\n",
       "    <tr>\n",
       "      <th>1</th>\n",
       "      <td>10.0</td>\n",
       "      <td>0.4352</td>\n",
       "    </tr>\n",
       "    <tr>\n",
       "      <th>2</th>\n",
       "      <td>20.0</td>\n",
       "      <td>0.6281</td>\n",
       "    </tr>\n",
       "    <tr>\n",
       "      <th>3</th>\n",
       "      <td>30.0</td>\n",
       "      <td>0.7246</td>\n",
       "    </tr>\n",
       "  </tbody>\n",
       "</table>\n",
       "</div>"
      ],
      "text/plain": [
       "     rs   gamma\n",
       "0   2.5  0.0010\n",
       "1  10.0  0.4352\n",
       "2  20.0  0.6281\n",
       "3  30.0  0.7246"
      ]
     },
     "execution_count": 7,
     "metadata": {},
     "output_type": "execute_result"
    }
   ],
   "source": [
    "data_df"
   ]
  },
  {
   "cell_type": "code",
   "execution_count": 4,
   "metadata": {},
   "outputs": [
    {
     "data": {
      "image/png": "[encoded data removed]",
      "text/plain": [
       "<Figure size 432x288 with 1 Axes>"
      ]
     },
     "metadata": {
      "needs_background": "light"
     },
     "output_type": "display_data"
    }
   ],
   "source": [
    "font = {'family' : 'serif',\n",
    "        'weight' : 'normal',\n",
    "        'size'   : 10}\n",
    "\n",
    "matplotlib.rc('font', **font)\n",
    "\n",
    "font = {'family': 'serif',\n",
    "        'color':  'darkred',\n",
    "        'weight': 'normal',\n",
    "        'size': 16,\n",
    "        }\n",
    "\n",
    "\n",
    "xnew = np.linspace(np.min(data_df.rs), np.max(data_df.rs), 300)\n",
    "\n",
    "spl = make_interp_spline(data_df.rs, data_df.gamma, k=2)\n",
    "line_smooth = spl(xnew)\n",
    "plt.plot(xnew, line_smooth, '-', color = 'darkred')\n",
    "\n",
    "plt.title(r\"$R_s$ vs $\\gamma$\", fontdict=font, pad = 10)\n",
    "plt.grid()\n",
    "plt.xlabel(r\"$R_s$\", fontdict=font)\n",
    "plt.ylabel(r\"$\\gamma$\", fontdict=font)\n",
    "\n",
    "plt.subplots_adjust(left=0.10)"
   ]
  },
  {
   "cell_type": "markdown",
   "metadata": {},
   "source": [
    "To check against p values from Tcut script:\n",
    "\n",
    "p_values at gamma_up = 0.001, rs = 2.5, p_values = 0.0 44.49999999999999  \n",
    "p_values at gamma_up = 0.43517241379310345, rs = 10, p_values = 2.0 64.0  \n",
    "p_values at gamma_up = 0.6281379310344828, rs = 20, p_values = 2.5 60.5  \n",
    "p_values at gamma_up = 0.7246206896551725, rs = 30, p_values = 1.0 56.5\n"
   ]
  },
  {
   "cell_type": "markdown",
   "metadata": {},
   "source": [
    "# Tcut"
   ]
  },
  {
   "cell_type": "code",
   "execution_count": 5,
   "metadata": {},
   "outputs": [],
   "source": [
    "rs = [2.5, 10, 20, 30]\n",
    "gamma = [0.001, 0.778222, 0.933666, 0.933666]"
   ]
  },
  {
   "cell_type": "code",
   "execution_count": 6,
   "metadata": {},
   "outputs": [
    {
     "data": {
      "image/png": "[encoded data removed]",
      "text/plain": [
       "<Figure size 432x288 with 1 Axes>"
      ]
     },
     "metadata": {
      "needs_background": "light"
     },
     "output_type": "display_data"
    }
   ],
   "source": [
    "xnew = np.linspace(np.min(rs), np.max(rs), 300)\n",
    "\n",
    "spl = make_interp_spline(rs, gamma, k=2)\n",
    "line_smooth = spl(xnew)\n",
    "plt.plot(xnew, line_smooth, '-', color = 'darkred')\n",
    "\n",
    "plt.title(r\"$R_s$ vs $\\gamma$\", fontdict=font, pad = 10)\n",
    "plt.grid()\n",
    "plt.xlabel(r\"$R_s$\", fontdict=font)\n",
    "plt.ylabel(r\"$\\gamma$\", fontdict=font)\n",
    "\n",
    "plt.subplots_adjust(left=0.10)"
   ]
  },
  {
   "cell_type": "code",
   "execution_count": 9,
   "metadata": {},
   "outputs": [
    {
     "data": {
      "image/png": "[encoded data removed]",
      "text/plain": [
       "<Figure size 432x288 with 1 Axes>"
      ]
     },
     "metadata": {
      "needs_background": "light"
     },
     "output_type": "display_data"
    }
   ],
   "source": [
    "plt.plot(rs, gamma, '-', color = 'darkred')\n",
    "plt.title(r\"$R_s$ vs $\\gamma$\", fontdict=font, pad = 10)\n",
    "plt.grid()\n",
    "plt.xlabel(r\"$R_s$\", fontdict=font)\n",
    "plt.ylabel(r\"$\\gamma$\", fontdict=font)\n",
    "plt.subplots_adjust(left=0.10)"
   ]
  },
  {
   "cell_type": "markdown",
   "metadata": {},
   "source": [
    "# Plotting Cut vs Non-Cut"
   ]
  },
  {
   "cell_type": "code",
   "execution_count": 10,
   "metadata": {},
   "outputs": [],
   "source": [
    "data = \"/home/sven/repos/exoplanets/python/data_UL/UL_fixedT10v100_nBDs100_f1.0_steps200_sigma0.1_Asimov.dat\"\n",
    "data_noncut_df = pd.read_csv(data, sep=\"\\s+\", names = ['rs', 'gamma'])"
   ]
  },
  {
   "cell_type": "code",
   "execution_count": 11,
   "metadata": {},
   "outputs": [
    {
     "data": {
      "text/html": [
       "<div>\n",
       "<style scoped>\n",
       "    .dataframe tbody tr th:only-of-type {\n",
       "        vertical-align: middle;\n",
       "    }\n",
       "\n",
       "    .dataframe tbody tr th {\n",
       "        vertical-align: top;\n",
       "    }\n",
       "\n",
       "    .dataframe thead th {\n",
       "        text-align: right;\n",
       "    }\n",
       "</style>\n",
       "<table border=\"1\" class=\"dataframe\">\n",
       "  <thead>\n",
       "    <tr style=\"text-align: right;\">\n",
       "      <th></th>\n",
       "      <th>rs</th>\n",
       "      <th>gamma</th>\n",
       "    </tr>\n",
       "  </thead>\n",
       "  <tbody>\n",
       "    <tr>\n",
       "      <th>0</th>\n",
       "      <td>2.5</td>\n",
       "      <td>0.0010</td>\n",
       "    </tr>\n",
       "    <tr>\n",
       "      <th>1</th>\n",
       "      <td>5.0</td>\n",
       "      <td>0.1379</td>\n",
       "    </tr>\n",
       "    <tr>\n",
       "      <th>2</th>\n",
       "      <td>7.5</td>\n",
       "      <td>0.3483</td>\n",
       "    </tr>\n",
       "    <tr>\n",
       "      <th>3</th>\n",
       "      <td>10.0</td>\n",
       "      <td>0.4655</td>\n",
       "    </tr>\n",
       "    <tr>\n",
       "      <th>4</th>\n",
       "      <td>12.5</td>\n",
       "      <td>0.5379</td>\n",
       "    </tr>\n",
       "    <tr>\n",
       "      <th>5</th>\n",
       "      <td>15.0</td>\n",
       "      <td>0.5828</td>\n",
       "    </tr>\n",
       "    <tr>\n",
       "      <th>6</th>\n",
       "      <td>17.5</td>\n",
       "      <td>0.6241</td>\n",
       "    </tr>\n",
       "    <tr>\n",
       "      <th>7</th>\n",
       "      <td>20.0</td>\n",
       "      <td>0.6517</td>\n",
       "    </tr>\n",
       "    <tr>\n",
       "      <th>8</th>\n",
       "      <td>22.5</td>\n",
       "      <td>0.6655</td>\n",
       "    </tr>\n",
       "    <tr>\n",
       "      <th>9</th>\n",
       "      <td>25.0</td>\n",
       "      <td>0.6931</td>\n",
       "    </tr>\n",
       "    <tr>\n",
       "      <th>10</th>\n",
       "      <td>30.0</td>\n",
       "      <td>0.7207</td>\n",
       "    </tr>\n",
       "  </tbody>\n",
       "</table>\n",
       "</div>"
      ],
      "text/plain": [
       "      rs   gamma\n",
       "0    2.5  0.0010\n",
       "1    5.0  0.1379\n",
       "2    7.5  0.3483\n",
       "3   10.0  0.4655\n",
       "4   12.5  0.5379\n",
       "5   15.0  0.5828\n",
       "6   17.5  0.6241\n",
       "7   20.0  0.6517\n",
       "8   22.5  0.6655\n",
       "9   25.0  0.6931\n",
       "10  30.0  0.7207"
      ]
     },
     "execution_count": 11,
     "metadata": {},
     "output_type": "execute_result"
    }
   ],
   "source": [
    "data_noncut_df"
   ]
  },
  {
   "cell_type": "code",
   "execution_count": 13,
   "metadata": {},
   "outputs": [
    {
     "data": {
      "image/png": "[encoded data removed]",
      "text/plain": [
       "<Figure size 432x288 with 1 Axes>"
      ]
     },
     "metadata": {
      "needs_background": "light"
     },
     "output_type": "display_data"
    }
   ],
   "source": [
    "plt.plot(rs, gamma, '-', color = 'darkred', label = '650 Cut')\n",
    "plt.plot(data_noncut_df.rs, data_noncut_df.gamma, '-', color = 'green', label='No cut')\n",
    "\n",
    "plt.title(r\"$R_s$ vs $\\gamma$\", fontdict=font, pad = 10)\n",
    "plt.grid()\n",
    "plt.xlabel(r\"$R_s$\", fontdict=font)\n",
    "plt.ylabel(r\"$\\gamma$\", fontdict=font)\n",
    "\n",
    "plt.legend(loc =\"lower right\")\n",
    "\n",
    "plt.subplots_adjust(left=0.10)"
   ]
  }
 ],
 "metadata": {
  "interpreter": {
   "hash": "83337037a5cfbb611f36a1b0df2cb9fcbbff2bf207d2366aba390e45bfeccdb8"
  },
  "kernelspec": {
   "display_name": "Python 3.6.8 64-bit ('exoplanetenv': venv)",
   "name": "python3"
  },
  "language_info": {
   "codemirror_mode": {
    "name": "ipython",
    "version": 3
   },
   "file_extension": ".py",
   "mimetype": "text/x-python",
   "name": "python",
   "nbconvert_exporter": "python",
   "pygments_lexer": "ipython3",
   "version": "3.6.8"
  },
  "orig_nbformat": 4
 },
 "nbformat": 4,
 "nbformat_minor": 2
}
