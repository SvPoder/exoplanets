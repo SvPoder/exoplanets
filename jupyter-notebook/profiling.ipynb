{
 "cells": [
  {
   "cell_type": "code",
   "execution_count": 2,
   "metadata": {},
   "outputs": [
    {
     "name": "stdout",
     "output_type": "stream",
     "text": [
      "Mock observations took 65.52050709724426\n"
     ]
    }
   ],
   "source": [
    "import sys\n",
    "sys.path.append(\"/home/mariacst/exoplanets/running/.env/lib/python3.6/site-packages\")\n",
    "sys.path.append(\"../python/\")\n",
    "import emcee\n",
    "import numpy as np\n",
    "from scipy.interpolate import griddata\n",
    "from derivatives import derivativeTint_wrt_A, derivativeTint_wrt_M\n",
    "import imp\n",
    "import mock_generation\n",
    "imp.reload(mock_generation)\n",
    "from mock_generation import mock_population_all\n",
    "from astropy.constants import R_jup\n",
    "import glob\n",
    "import pickle\n",
    "#import time\n",
    "#from emcee_functions import lnprob\n",
    "\n",
    "# Timing the script\n",
    "import time\n",
    "\n",
    "\n",
    "# Constant parameters & conversions ==========================================\n",
    "rho0                    = 0.42 # Local DM density [GeV/cm3]\n",
    "epsilon                 = 1.\n",
    "Rsun                    = 8.178 # Sun galactocentric distance [kpc]\n",
    "# ============================================================================\n",
    "# Input parameters\n",
    "#ex         = sys.argv[1]\n",
    "ex = \"fixedT10v100\"\n",
    "#rank       = int(sys.argv[2])\n",
    "rank = 1\n",
    "#nBDs       = int(sys.argv[3])\n",
    "nBDs = 100000\n",
    "relTobs    = 0.1\n",
    "#sigma      = float(sys.argv[4])\n",
    "sigma = 0.1\n",
    "f_true     = 1.\n",
    "#gamma_true = float(sys.argv[5])\n",
    "gamma_true = 0.6\n",
    "#rs_true    = float(sys.argv[6])\n",
    "rs_true = 5\n",
    "v          = 100.\n",
    "# ------------------------------------------------------------------------\n",
    "# Load theoretical cooling model\n",
    "path = \"/home/mariacst/exoplanets/running/data/\"\n",
    "data = np.genfromtxt(path + \"./ATMO_CEQ_vega_MIRI.txt\", unpack=True)\n",
    "points = np.transpose(data[0:2, :])\n",
    "values = data[2]\n",
    "\n",
    "start = time.time()\n",
    "# Mock observation\n",
    "#np.random.seed(rank)\n",
    "(robs, sigmarobs, Tobs, sigmaTobs, Mobs,\n",
    "     sigmaMobs, Aobs, sigmaAobs) = mock_population_all(nBDs, relTobs, sigma,\n",
    "                                      sigma, sigma, f_true, gamma_true,\n",
    "                                      rs_true, rho0_true=rho0, v=v)\n",
    "\n",
    "elapsed = time.time() - start\n",
    "print(\"Mock observations took \" + str(elapsed))\n",
    "                                      \n",
    "# Calculate derivatives Tint wrt Age and Mass\n",
    "dervTint_A = np.ones(nBDs)\n",
    "dervTint_M = np.ones(nBDs)\n",
    "size       = 7000\n",
    "h          = 0.001\n",
    "\n",
    "# for i in range(nBDs):\n",
    "#     dervTint_A[i] = derivativeTint_wrt_A(Mobs[i], Aobs[i], points, values,\n",
    "#                                          size=size, h=h)\n",
    "#     dervTint_M[i] = derivativeTint_wrt_M(Mobs[i], Aobs[i], points, values,\n",
    "#                                          size=size, h=h)\n",
    "\n",
    "# Path for 10^5 derivatives\n",
    "path_der = \"/hdfs/local/mariacst/exoplanets/data_der/\"\n",
    "\n",
    "steps = 200\n",
    "for i in range(steps):\n",
    "\n",
    "    # Load derivatives Tint wrt Age and Mass\n",
    "    data = np.genfromtxt(path_der + \"derivativeTint_\" + ex + \"_N%i_sigma%.1f_v%i.dat\"\n",
    "                    %(nBDs, sigma, i+1), unpack=True)\n",
    "\n",
    "    dervTint_A = data[0]\n",
    "    dervTint_M = data[1]\n",
    "\n",
    "## calculate predictic intrinsic temperature\n",
    "xi       = np.transpose(np.asarray([Aobs, Mobs]))\n",
    "Teff     = griddata(points, values, xi)\n"
   ]
  },
  {
   "cell_type": "code",
   "execution_count": 32,
   "metadata": {},
   "outputs": [],
   "source": [
    "conv_Msun_to_kg         = 1.98841e+30 # [kg/Msun]\n",
    "from derivatives import derivativeTDM_wrt_M, derivativeTDM_wrt_r\n",
    "from utils import T_DM, temperature_withDM\n",
    "import time\n",
    "\n",
    "def sigma_Tmodel2(r, M, A, sigma_r, sigma_M, sigma_A,\n",
    "                  Tint, points, values, dervTint_M, dervTint_A, f, params,\n",
    "                  v=None, R=R_jup.value, Rsun=8.178, epsilon=1):\n",
    "    \"\"\"\n",
    "    Return squared uncertainty in model temperature [UNITS??]\n",
    "\n",
    "    Input:\n",
    "        r : Galactocentric distance [kpc]\n",
    "        M : mass [Msun]\n",
    "        A : age [Gyr]\n",
    "\n",
    "    Assumption: uncertainties in age, mass and galactocentric distance\n",
    "        are independent\n",
    "    \"\"\"\n",
    "    M_in_kg = M*conv_Msun_to_kg\n",
    "\n",
    "    _TDM = T_DM(r, R=R, M=M_in_kg, Rsun=Rsun, f=f, params=params, v=v,\n",
    "                epsilon=epsilon)\n",
    "    Ttot = np.power(_TDM**4 + Tint**4, 0.25)\n",
    "\n",
    "    dervT_M = ((Tint/Ttot)**3*dervTint_M +\n",
    "               (_TDM/Ttot)**3*derivativeTDM_wrt_M(r, f, params, M, v=v, R=R,\n",
    "                                                  Rsun=Rsun,epsilon=epsilon))\n",
    "    \n",
    "    return (np.power((Tint/Ttot)**3*dervTint_A*sigma_A, 2)+\n",
    "            np.power(dervT_M*sigma_M, 2)+\n",
    "            np.power((_TDM/Ttot)**3*derivativeTDM_wrt_r(r, f, params, M, v=v,\n",
    "                                  R=R, Rsun=Rsun, epsilon=epsilon)*sigma_r, 2))\n",
    "\n",
    "    # result = ((Tint/Ttot)**3*dervTint_A*sigma_A)**2 + (dervT_M*sigma_M)**2 + ((_TDM/Ttot)**3*derivativeTDM_wrt_r(r, f, params, M, v=v,\n",
    "    #                               R=R, Rsun=Rsun, epsilon=epsilon)*sigma_r)**2\n",
    "    # return result"
   ]
  },
  {
   "cell_type": "code",
   "execution_count": 33,
   "metadata": {},
   "outputs": [
    {
     "name": "stdout",
     "output_type": "stream",
     "text": [
      "Input section took 0.14516403516133627\n"
     ]
    }
   ],
   "source": [
    "\n",
    "timers = []\n",
    "for i in range(150):\n",
    "    start = time.time()\n",
    "    _sigma_Tmodel2 = sigma_Tmodel2(robs, Mobs, Aobs, sigmarobs, sigmaMobs,\n",
    "                                        sigmaAobs, Teff, points, values, dervTint_M,\n",
    "                                        dervTint_A,\n",
    "                                        f_true, [gamma_true, rs_true, rho0], v=v, R=R_jup.value, Rsun=Rsun,\n",
    "                                        epsilon=epsilon)\n",
    "    elapsed = time.time() - start\n",
    "    timers.append(elapsed)\n",
    "\n",
    "print(\"Input section took \" + str(np.mean(timers)))"
   ]
  },
  {
   "cell_type": "code",
   "execution_count": 31,
   "metadata": {},
   "outputs": [
    {
     "name": "stdout",
     "output_type": "stream",
     "text": [
      "Input section took 0.14202037811279297\n"
     ]
    }
   ],
   "source": [
    "\n",
    "timers = []\n",
    "for i in range(150):\n",
    "    start = time.time()\n",
    "    _sigma_Tmodel2 = sigma_Tmodel2(robs, Mobs, Aobs, sigmarobs, sigmaMobs,\n",
    "                                        sigmaAobs, Teff, points, values, dervTint_M,\n",
    "                                        dervTint_A,\n",
    "                                        f_true, [gamma_true, rs_true, rho0], v=v, R=R_jup.value, Rsun=Rsun,\n",
    "                                        epsilon=epsilon)\n",
    "    elapsed = time.time() - start\n",
    "    timers.append(elapsed)\n",
    "\n",
    "print(\"Input section took \" + str(np.mean(timers)))"
   ]
  },
  {
   "cell_type": "markdown",
   "metadata": {},
   "source": [
    "## Using Numba"
   ]
  },
  {
   "cell_type": "code",
   "execution_count": 6,
   "metadata": {},
   "outputs": [],
   "source": [
    "from astropy.constants import R_jup, M_jup, G, sigma_sb\n",
    "import numpy as np\n",
    "def gNFW_rho(Rsun, R, parameters):\n",
    "    \"\"\"\n",
    "    Return gNFW density profile at r distance from the GC\n",
    "    Denstiy has same units as local DM density rho0\n",
    "    \"\"\"\n",
    "    # gNFW parameters\n",
    "    gamma = parameters[0] \n",
    "    Rs    = parameters[1]\n",
    "    rho0  = parameters[2]\n",
    "    # Density profile\n",
    "    rho   = rho0*np.power(Rsun/R, gamma)*np.power((Rs+Rsun)/(Rs+R), 3-gamma)    \n",
    "    # Return\n",
    "    return rho"
   ]
  },
  {
   "cell_type": "code",
   "execution_count": 7,
   "metadata": {},
   "outputs": [],
   "source": [
    "Rsun                    = 8.178\n",
    "rho0                    = 0.42\n",
    "rs = 5\n",
    "gamma = 0.6\n",
    "_gNFW_rho = gNFW_rho(Rsun, R_jup.value, [gamma, rs, rho0])"
   ]
  }
 ],
 "metadata": {
  "interpreter": {
   "hash": "83337037a5cfbb611f36a1b0df2cb9fcbbff2bf207d2366aba390e45bfeccdb8"
  },
  "kernelspec": {
   "display_name": "Python 3.6.8 64-bit ('exoplanetenv': venv)",
   "name": "python3"
  },
  "language_info": {
   "codemirror_mode": {
    "name": "ipython",
    "version": 3
   },
   "file_extension": ".py",
   "mimetype": "text/x-python",
   "name": "python",
   "nbconvert_exporter": "python",
   "pygments_lexer": "ipython3",
   "version": "3.6.8"
  },
  "orig_nbformat": 4
 },
 "nbformat": 4,
 "nbformat_minor": 2
}
